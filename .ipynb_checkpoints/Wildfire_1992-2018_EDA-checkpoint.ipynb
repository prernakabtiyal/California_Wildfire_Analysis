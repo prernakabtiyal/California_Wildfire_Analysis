{
 "cells": [
  {
   "cell_type": "code",
   "execution_count": 24,
   "metadata": {},
   "outputs": [],
   "source": [
    "import pandas as pd\n",
    "import numpy as np \n",
    "import matplotlib.pyplot as plt\n",
    "import seaborn as sns\n",
    "from sklearn.model_selection import train_test_split, StratifiedKFold\n",
    "from sklearn.ensemble import RandomForestClassifier"
   ]
  },
  {
   "cell_type": "code",
   "execution_count": 25,
   "metadata": {},
   "outputs": [
    {
     "data": {
      "text/html": [
       "<div>\n",
       "<style scoped>\n",
       "    .dataframe tbody tr th:only-of-type {\n",
       "        vertical-align: middle;\n",
       "    }\n",
       "\n",
       "    .dataframe tbody tr th {\n",
       "        vertical-align: top;\n",
       "    }\n",
       "\n",
       "    .dataframe thead th {\n",
       "        text-align: right;\n",
       "    }\n",
       "</style>\n",
       "<table border=\"1\" class=\"dataframe\">\n",
       "  <thead>\n",
       "    <tr style=\"text-align: right;\">\n",
       "      <th></th>\n",
       "      <th>Sector</th>\n",
       "      <th>Q</th>\n",
       "      <th>Year</th>\n",
       "      <th>Burn</th>\n",
       "      <th>Slr_Tot</th>\n",
       "      <th>MnWndSp_Av</th>\n",
       "      <th>MnWndDir_Av</th>\n",
       "      <th>MaxWndGst</th>\n",
       "      <th>AvAirT_Av</th>\n",
       "      <th>AvAirT_AvDMax</th>\n",
       "      <th>...</th>\n",
       "      <th>AvAirT_Av_5</th>\n",
       "      <th>AvAirT_AvDMax_5</th>\n",
       "      <th>AvAirT_Max_5</th>\n",
       "      <th>AvAirT_AvDMin_5</th>\n",
       "      <th>AvAirT_Min_5</th>\n",
       "      <th>AvHum_Av_5</th>\n",
       "      <th>AvHum_Max_5</th>\n",
       "      <th>AvHum_Min_5</th>\n",
       "      <th>Precip_Tot_5</th>\n",
       "      <th>BurnFrCh</th>\n",
       "    </tr>\n",
       "  </thead>\n",
       "  <tbody>\n",
       "    <tr>\n",
       "      <th>0</th>\n",
       "      <td>0</td>\n",
       "      <td>1</td>\n",
       "      <td>1992</td>\n",
       "      <td>92.2</td>\n",
       "      <td>0.0</td>\n",
       "      <td>0.073278</td>\n",
       "      <td>0.012646</td>\n",
       "      <td>-0.119249</td>\n",
       "      <td>0.061706</td>\n",
       "      <td>0.035769</td>\n",
       "      <td>...</td>\n",
       "      <td>0.061706</td>\n",
       "      <td>0.035769</td>\n",
       "      <td>0.004654</td>\n",
       "      <td>0.097781</td>\n",
       "      <td>0.682232</td>\n",
       "      <td>-0.253551</td>\n",
       "      <td>-0.096265</td>\n",
       "      <td>-0.407430</td>\n",
       "      <td>-0.438836</td>\n",
       "      <td>-0.450850</td>\n",
       "    </tr>\n",
       "    <tr>\n",
       "      <th>1</th>\n",
       "      <td>0</td>\n",
       "      <td>2</td>\n",
       "      <td>1992</td>\n",
       "      <td>6457.0</td>\n",
       "      <td>0.0</td>\n",
       "      <td>0.100879</td>\n",
       "      <td>0.062195</td>\n",
       "      <td>0.494236</td>\n",
       "      <td>0.091426</td>\n",
       "      <td>0.088843</td>\n",
       "      <td>...</td>\n",
       "      <td>0.076566</td>\n",
       "      <td>0.062306</td>\n",
       "      <td>0.032547</td>\n",
       "      <td>0.095321</td>\n",
       "      <td>0.360373</td>\n",
       "      <td>-0.183629</td>\n",
       "      <td>-0.041720</td>\n",
       "      <td>-0.387987</td>\n",
       "      <td>-0.478321</td>\n",
       "      <td>-0.469665</td>\n",
       "    </tr>\n",
       "    <tr>\n",
       "      <th>2</th>\n",
       "      <td>0</td>\n",
       "      <td>3</td>\n",
       "      <td>1992</td>\n",
       "      <td>74943.7</td>\n",
       "      <td>0.0</td>\n",
       "      <td>0.141522</td>\n",
       "      <td>0.516184</td>\n",
       "      <td>0.184578</td>\n",
       "      <td>0.005348</td>\n",
       "      <td>-0.001681</td>\n",
       "      <td>...</td>\n",
       "      <td>0.052826</td>\n",
       "      <td>0.040977</td>\n",
       "      <td>0.024636</td>\n",
       "      <td>0.065978</td>\n",
       "      <td>0.223777</td>\n",
       "      <td>-0.138329</td>\n",
       "      <td>-0.017073</td>\n",
       "      <td>-0.333035</td>\n",
       "      <td>-0.470012</td>\n",
       "      <td>-0.075560</td>\n",
       "    </tr>\n",
       "    <tr>\n",
       "      <th>3</th>\n",
       "      <td>0</td>\n",
       "      <td>4</td>\n",
       "      <td>1992</td>\n",
       "      <td>365.1</td>\n",
       "      <td>0.0</td>\n",
       "      <td>0.135283</td>\n",
       "      <td>0.040399</td>\n",
       "      <td>0.109643</td>\n",
       "      <td>-0.029742</td>\n",
       "      <td>-0.015678</td>\n",
       "      <td>...</td>\n",
       "      <td>0.032184</td>\n",
       "      <td>0.026813</td>\n",
       "      <td>0.018601</td>\n",
       "      <td>0.032827</td>\n",
       "      <td>0.145657</td>\n",
       "      <td>-0.093192</td>\n",
       "      <td>-0.008157</td>\n",
       "      <td>-0.293254</td>\n",
       "      <td>-0.337562</td>\n",
       "      <td>-0.962551</td>\n",
       "    </tr>\n",
       "    <tr>\n",
       "      <th>4</th>\n",
       "      <td>0</td>\n",
       "      <td>1</td>\n",
       "      <td>1993</td>\n",
       "      <td>24.4</td>\n",
       "      <td>0.0</td>\n",
       "      <td>0.030207</td>\n",
       "      <td>-0.024922</td>\n",
       "      <td>-0.031629</td>\n",
       "      <td>-0.090862</td>\n",
       "      <td>-0.095361</td>\n",
       "      <td>...</td>\n",
       "      <td>0.007575</td>\n",
       "      <td>0.002378</td>\n",
       "      <td>-0.006838</td>\n",
       "      <td>0.009316</td>\n",
       "      <td>0.028678</td>\n",
       "      <td>-0.039078</td>\n",
       "      <td>-0.003671</td>\n",
       "      <td>-0.106159</td>\n",
       "      <td>-0.297954</td>\n",
       "      <td>-0.854672</td>\n",
       "    </tr>\n",
       "  </tbody>\n",
       "</table>\n",
       "<p>5 rows × 44 columns</p>\n",
       "</div>"
      ],
      "text/plain": [
       "   Sector  Q  Year     Burn  Slr_Tot  MnWndSp_Av  MnWndDir_Av  MaxWndGst  \\\n",
       "0       0  1  1992     92.2      0.0    0.073278     0.012646  -0.119249   \n",
       "1       0  2  1992   6457.0      0.0    0.100879     0.062195   0.494236   \n",
       "2       0  3  1992  74943.7      0.0    0.141522     0.516184   0.184578   \n",
       "3       0  4  1992    365.1      0.0    0.135283     0.040399   0.109643   \n",
       "4       0  1  1993     24.4      0.0    0.030207    -0.024922  -0.031629   \n",
       "\n",
       "   AvAirT_Av  AvAirT_AvDMax  ...  AvAirT_Av_5  AvAirT_AvDMax_5  AvAirT_Max_5  \\\n",
       "0   0.061706       0.035769  ...     0.061706         0.035769      0.004654   \n",
       "1   0.091426       0.088843  ...     0.076566         0.062306      0.032547   \n",
       "2   0.005348      -0.001681  ...     0.052826         0.040977      0.024636   \n",
       "3  -0.029742      -0.015678  ...     0.032184         0.026813      0.018601   \n",
       "4  -0.090862      -0.095361  ...     0.007575         0.002378     -0.006838   \n",
       "\n",
       "   AvAirT_AvDMin_5  AvAirT_Min_5  AvHum_Av_5  AvHum_Max_5  AvHum_Min_5  \\\n",
       "0         0.097781      0.682232   -0.253551    -0.096265    -0.407430   \n",
       "1         0.095321      0.360373   -0.183629    -0.041720    -0.387987   \n",
       "2         0.065978      0.223777   -0.138329    -0.017073    -0.333035   \n",
       "3         0.032827      0.145657   -0.093192    -0.008157    -0.293254   \n",
       "4         0.009316      0.028678   -0.039078    -0.003671    -0.106159   \n",
       "\n",
       "   Precip_Tot_5  BurnFrCh  \n",
       "0     -0.438836 -0.450850  \n",
       "1     -0.478321 -0.469665  \n",
       "2     -0.470012 -0.075560  \n",
       "3     -0.337562 -0.962551  \n",
       "4     -0.297954 -0.854672  \n",
       "\n",
       "[5 rows x 44 columns]"
      ]
     },
     "execution_count": 25,
     "metadata": {},
     "output_type": "execute_result"
    }
   ],
   "source": [
    "## Reading in the data\n",
    "fires = pd.read_csv(\"df_QuarterSector_CA_1992_2018_True3and5Av.csv\")\n",
    "fires.head()"
   ]
  },
  {
   "cell_type": "code",
   "execution_count": 16,
   "metadata": {},
   "outputs": [
    {
     "name": "stdout",
     "output_type": "stream",
     "text": [
      "For area = 1000 \n",
      " 1    340\n",
      "0    200\n",
      "Name: Fire_a, dtype: int64\n",
      "For area = 1500 \n",
      " 1    314\n",
      "0    226\n",
      "Name: Fire_a, dtype: int64\n",
      "For area = 2000 \n",
      " 1    295\n",
      "0    245\n",
      "Name: Fire_a, dtype: int64\n",
      "For area = 2500 \n",
      " 1    275\n",
      "0    265\n",
      "Name: Fire_a, dtype: int64\n",
      "For area = 3000 \n",
      " 0    282\n",
      "1    258\n",
      "Name: Fire_a, dtype: int64\n"
     ]
    }
   ],
   "source": [
    "## Check for data balance with different thresholds for Burn\n",
    "area = [1000,1500,2000,2500,3000]\n",
    "for a in area:\n",
    "    fires['Fire_a'] = np.where(fires['Burn']<a,0,1)\n",
    "    print(\"For area =\",a,\"\\n\",fires['Fire_a'].value_counts())"
   ]
  },
  {
   "cell_type": "markdown",
   "metadata": {},
   "source": [
    "I am going to pick Burn threshold>1500 as that gives a kind of balance dataset. I will not use this with my models to see if I get good precision and recall. This will test if the imbalance of data was causing poor results. "
   ]
  },
  {
   "cell_type": "code",
   "execution_count": 3,
   "metadata": {},
   "outputs": [
    {
     "data": {
      "text/plain": [
       "1    451\n",
       "0     89\n",
       "Name: Fire, dtype: int64"
      ]
     },
     "execution_count": 3,
     "metadata": {},
     "output_type": "execute_result"
    }
   ],
   "source": [
    "## Set a fire threshold of 100 acres. Fires under 100 acres not considered fires(0), fires over 100 acres are considered as fires(1)\n",
    "fires['Fire'] = np.where(fires['Burn']<100,0,1)\n",
    "## Check if data is balanced\n",
    "fires['Fire'].value_counts()"
   ]
  },
  {
   "cell_type": "markdown",
   "metadata": {},
   "source": [
    "Data is imbalanced, there are 5x more 1s than 0s."
   ]
  },
  {
   "cell_type": "code",
   "execution_count": 4,
   "metadata": {},
   "outputs": [
    {
     "data": {
      "text/plain": [
       "Sector             0\n",
       "Q                  0\n",
       "Year               0\n",
       "Burn               0\n",
       "Slr_Tot            0\n",
       "MnWndSp_Av         0\n",
       "MnWndDir_Av        0\n",
       "MaxWndGst          0\n",
       "AvAirT_Av          0\n",
       "AvAirT_AvDMax      0\n",
       "AvAirT_Max         0\n",
       "AvAirT_AvDMin      0\n",
       "AvAirT_Min         0\n",
       "AvHum_Av           0\n",
       "AvHum_Max          0\n",
       "AvHum_Min          0\n",
       "Precip_Tot         0\n",
       "Slr_Tot_3          0\n",
       "MnWndSp_Av_3       0\n",
       "MnWndDir_Av_3      0\n",
       "MaxWndGst_3        0\n",
       "AvAirT_Av_3        0\n",
       "AvAirT_AvDMax_3    0\n",
       "AvAirT_Max_3       0\n",
       "AvAirT_AvDMin_3    0\n",
       "AvAirT_Min_3       0\n",
       "AvHum_Av_3         0\n",
       "AvHum_Max_3        0\n",
       "AvHum_Min_3        0\n",
       "Precip_Tot_3       0\n",
       "Slr_Tot_5          0\n",
       "MnWndSp_Av_5       0\n",
       "MnWndDir_Av_5      0\n",
       "MaxWndGst_5        0\n",
       "AvAirT_Av_5        0\n",
       "AvAirT_AvDMax_5    0\n",
       "AvAirT_Max_5       0\n",
       "AvAirT_AvDMin_5    0\n",
       "AvAirT_Min_5       0\n",
       "AvHum_Av_5         0\n",
       "AvHum_Max_5        0\n",
       "AvHum_Min_5        0\n",
       "Precip_Tot_5       0\n",
       "BurnFrCh           0\n",
       "Fire               0\n",
       "dtype: int64"
      ]
     },
     "execution_count": 4,
     "metadata": {},
     "output_type": "execute_result"
    }
   ],
   "source": [
    "## Check for null values\n",
    "fires.isnull().sum()"
   ]
  },
  {
   "cell_type": "markdown",
   "metadata": {},
   "source": [
    "There are no null values present. "
   ]
  },
  {
   "cell_type": "code",
   "execution_count": 5,
   "metadata": {},
   "outputs": [
    {
     "data": {
      "text/html": [
       "<div>\n",
       "<style scoped>\n",
       "    .dataframe tbody tr th:only-of-type {\n",
       "        vertical-align: middle;\n",
       "    }\n",
       "\n",
       "    .dataframe tbody tr th {\n",
       "        vertical-align: top;\n",
       "    }\n",
       "\n",
       "    .dataframe thead th {\n",
       "        text-align: right;\n",
       "    }\n",
       "</style>\n",
       "<table border=\"1\" class=\"dataframe\">\n",
       "  <thead>\n",
       "    <tr style=\"text-align: right;\">\n",
       "      <th></th>\n",
       "      <th>Sector</th>\n",
       "      <th>Q</th>\n",
       "      <th>Year</th>\n",
       "      <th>Burn</th>\n",
       "      <th>Slr_Tot</th>\n",
       "      <th>MnWndSp_Av</th>\n",
       "      <th>MnWndDir_Av</th>\n",
       "      <th>MaxWndGst</th>\n",
       "      <th>AvAirT_Av</th>\n",
       "      <th>AvAirT_AvDMax</th>\n",
       "      <th>...</th>\n",
       "      <th>AvAirT_AvDMax_5</th>\n",
       "      <th>AvAirT_Max_5</th>\n",
       "      <th>AvAirT_AvDMin_5</th>\n",
       "      <th>AvAirT_Min_5</th>\n",
       "      <th>AvHum_Av_5</th>\n",
       "      <th>AvHum_Max_5</th>\n",
       "      <th>AvHum_Min_5</th>\n",
       "      <th>Precip_Tot_5</th>\n",
       "      <th>BurnFrCh</th>\n",
       "      <th>Fire</th>\n",
       "    </tr>\n",
       "  </thead>\n",
       "  <tbody>\n",
       "    <tr>\n",
       "      <th>0</th>\n",
       "      <td>0</td>\n",
       "      <td>1</td>\n",
       "      <td>1992</td>\n",
       "      <td>92.2</td>\n",
       "      <td>0.0</td>\n",
       "      <td>0.073278</td>\n",
       "      <td>0.012646</td>\n",
       "      <td>-0.119249</td>\n",
       "      <td>0.061706</td>\n",
       "      <td>0.035769</td>\n",
       "      <td>...</td>\n",
       "      <td>0.035769</td>\n",
       "      <td>0.004654</td>\n",
       "      <td>0.097781</td>\n",
       "      <td>0.682232</td>\n",
       "      <td>-0.253551</td>\n",
       "      <td>-0.096265</td>\n",
       "      <td>-0.407430</td>\n",
       "      <td>-0.438836</td>\n",
       "      <td>-0.450850</td>\n",
       "      <td>0</td>\n",
       "    </tr>\n",
       "    <tr>\n",
       "      <th>1</th>\n",
       "      <td>0</td>\n",
       "      <td>2</td>\n",
       "      <td>1992</td>\n",
       "      <td>6457.0</td>\n",
       "      <td>0.0</td>\n",
       "      <td>0.100879</td>\n",
       "      <td>0.062195</td>\n",
       "      <td>0.494236</td>\n",
       "      <td>0.091426</td>\n",
       "      <td>0.088843</td>\n",
       "      <td>...</td>\n",
       "      <td>0.062306</td>\n",
       "      <td>0.032547</td>\n",
       "      <td>0.095321</td>\n",
       "      <td>0.360373</td>\n",
       "      <td>-0.183629</td>\n",
       "      <td>-0.041720</td>\n",
       "      <td>-0.387987</td>\n",
       "      <td>-0.478321</td>\n",
       "      <td>-0.469665</td>\n",
       "      <td>1</td>\n",
       "    </tr>\n",
       "    <tr>\n",
       "      <th>2</th>\n",
       "      <td>0</td>\n",
       "      <td>3</td>\n",
       "      <td>1992</td>\n",
       "      <td>74943.7</td>\n",
       "      <td>0.0</td>\n",
       "      <td>0.141522</td>\n",
       "      <td>0.516184</td>\n",
       "      <td>0.184578</td>\n",
       "      <td>0.005348</td>\n",
       "      <td>-0.001681</td>\n",
       "      <td>...</td>\n",
       "      <td>0.040977</td>\n",
       "      <td>0.024636</td>\n",
       "      <td>0.065978</td>\n",
       "      <td>0.223777</td>\n",
       "      <td>-0.138329</td>\n",
       "      <td>-0.017073</td>\n",
       "      <td>-0.333035</td>\n",
       "      <td>-0.470012</td>\n",
       "      <td>-0.075560</td>\n",
       "      <td>1</td>\n",
       "    </tr>\n",
       "    <tr>\n",
       "      <th>3</th>\n",
       "      <td>0</td>\n",
       "      <td>4</td>\n",
       "      <td>1992</td>\n",
       "      <td>365.1</td>\n",
       "      <td>0.0</td>\n",
       "      <td>0.135283</td>\n",
       "      <td>0.040399</td>\n",
       "      <td>0.109643</td>\n",
       "      <td>-0.029742</td>\n",
       "      <td>-0.015678</td>\n",
       "      <td>...</td>\n",
       "      <td>0.026813</td>\n",
       "      <td>0.018601</td>\n",
       "      <td>0.032827</td>\n",
       "      <td>0.145657</td>\n",
       "      <td>-0.093192</td>\n",
       "      <td>-0.008157</td>\n",
       "      <td>-0.293254</td>\n",
       "      <td>-0.337562</td>\n",
       "      <td>-0.962551</td>\n",
       "      <td>1</td>\n",
       "    </tr>\n",
       "    <tr>\n",
       "      <th>4</th>\n",
       "      <td>0</td>\n",
       "      <td>1</td>\n",
       "      <td>1993</td>\n",
       "      <td>24.4</td>\n",
       "      <td>0.0</td>\n",
       "      <td>0.030207</td>\n",
       "      <td>-0.024922</td>\n",
       "      <td>-0.031629</td>\n",
       "      <td>-0.090862</td>\n",
       "      <td>-0.095361</td>\n",
       "      <td>...</td>\n",
       "      <td>0.002378</td>\n",
       "      <td>-0.006838</td>\n",
       "      <td>0.009316</td>\n",
       "      <td>0.028678</td>\n",
       "      <td>-0.039078</td>\n",
       "      <td>-0.003671</td>\n",
       "      <td>-0.106159</td>\n",
       "      <td>-0.297954</td>\n",
       "      <td>-0.854672</td>\n",
       "      <td>0</td>\n",
       "    </tr>\n",
       "  </tbody>\n",
       "</table>\n",
       "<p>5 rows × 45 columns</p>\n",
       "</div>"
      ],
      "text/plain": [
       "   Sector  Q  Year     Burn  Slr_Tot  MnWndSp_Av  MnWndDir_Av  MaxWndGst  \\\n",
       "0       0  1  1992     92.2      0.0    0.073278     0.012646  -0.119249   \n",
       "1       0  2  1992   6457.0      0.0    0.100879     0.062195   0.494236   \n",
       "2       0  3  1992  74943.7      0.0    0.141522     0.516184   0.184578   \n",
       "3       0  4  1992    365.1      0.0    0.135283     0.040399   0.109643   \n",
       "4       0  1  1993     24.4      0.0    0.030207    -0.024922  -0.031629   \n",
       "\n",
       "   AvAirT_Av  AvAirT_AvDMax  ...  AvAirT_AvDMax_5  AvAirT_Max_5  \\\n",
       "0   0.061706       0.035769  ...         0.035769      0.004654   \n",
       "1   0.091426       0.088843  ...         0.062306      0.032547   \n",
       "2   0.005348      -0.001681  ...         0.040977      0.024636   \n",
       "3  -0.029742      -0.015678  ...         0.026813      0.018601   \n",
       "4  -0.090862      -0.095361  ...         0.002378     -0.006838   \n",
       "\n",
       "   AvAirT_AvDMin_5  AvAirT_Min_5  AvHum_Av_5  AvHum_Max_5  AvHum_Min_5  \\\n",
       "0         0.097781      0.682232   -0.253551    -0.096265    -0.407430   \n",
       "1         0.095321      0.360373   -0.183629    -0.041720    -0.387987   \n",
       "2         0.065978      0.223777   -0.138329    -0.017073    -0.333035   \n",
       "3         0.032827      0.145657   -0.093192    -0.008157    -0.293254   \n",
       "4         0.009316      0.028678   -0.039078    -0.003671    -0.106159   \n",
       "\n",
       "   Precip_Tot_5  BurnFrCh  Fire  \n",
       "0     -0.438836 -0.450850     0  \n",
       "1     -0.478321 -0.469665     1  \n",
       "2     -0.470012 -0.075560     1  \n",
       "3     -0.337562 -0.962551     1  \n",
       "4     -0.297954 -0.854672     0  \n",
       "\n",
       "[5 rows x 45 columns]"
      ]
     },
     "execution_count": 5,
     "metadata": {},
     "output_type": "execute_result"
    }
   ],
   "source": [
    "fires.head()\n",
    "#fires['Sector'].value_counts()"
   ]
  },
  {
   "cell_type": "code",
   "execution_count": 6,
   "metadata": {},
   "outputs": [
    {
     "data": {
      "text/plain": [
       "Index(['Sector', 'Q', 'Year', 'Burn', 'Slr_Tot', 'MnWndSp_Av', 'MnWndDir_Av',\n",
       "       'MaxWndGst', 'AvAirT_Av', 'AvAirT_AvDMax', 'AvAirT_Max',\n",
       "       'AvAirT_AvDMin', 'AvAirT_Min', 'AvHum_Av', 'AvHum_Max', 'AvHum_Min',\n",
       "       'Precip_Tot', 'Slr_Tot_3', 'MnWndSp_Av_3', 'MnWndDir_Av_3',\n",
       "       'MaxWndGst_3', 'AvAirT_Av_3', 'AvAirT_AvDMax_3', 'AvAirT_Max_3',\n",
       "       'AvAirT_AvDMin_3', 'AvAirT_Min_3', 'AvHum_Av_3', 'AvHum_Max_3',\n",
       "       'AvHum_Min_3', 'Precip_Tot_3', 'Slr_Tot_5', 'MnWndSp_Av_5',\n",
       "       'MnWndDir_Av_5', 'MaxWndGst_5', 'AvAirT_Av_5', 'AvAirT_AvDMax_5',\n",
       "       'AvAirT_Max_5', 'AvAirT_AvDMin_5', 'AvAirT_Min_5', 'AvHum_Av_5',\n",
       "       'AvHum_Max_5', 'AvHum_Min_5', 'Precip_Tot_5', 'BurnFrCh', 'Fire'],\n",
       "      dtype='object')"
      ]
     },
     "execution_count": 6,
     "metadata": {},
     "output_type": "execute_result"
    }
   ],
   "source": [
    "features = fires.columns\n",
    "features"
   ]
  },
  {
   "cell_type": "code",
   "execution_count": 7,
   "metadata": {},
   "outputs": [
    {
     "data": {
      "image/png": "[encoded data removed]",
      "text/plain": [
       "<Figure size 288x288 with 1 Axes>"
      ]
     },
     "metadata": {
      "needs_background": "light"
     },
     "output_type": "display_data"
    },
    {
     "data": {
      "image/png": "[encoded data removed]",
      "text/plain": [
       "<Figure size 288x288 with 1 Axes>"
      ]
     },
     "metadata": {
      "needs_background": "light"
     },
     "output_type": "display_data"
    },
    {
     "data": {
      "image/png": "[encoded data removed]",
      "text/plain": [
       "<Figure size 288x288 with 1 Axes>"
      ]
     },
     "metadata": {
      "needs_background": "light"
     },
     "output_type": "display_data"
    },
    {
     "data": {
      "image/png": "[encoded data removed]",
      "text/plain": [
       "<Figure size 288x288 with 1 Axes>"
      ]
     },
     "metadata": {
      "needs_background": "light"
     },
     "output_type": "display_data"
    },
    {
     "data": {
      "image/png": "[encoded data removed]",
      "text/plain": [
       "<Figure size 288x288 with 1 Axes>"
      ]
     },
     "metadata": {
      "needs_background": "light"
     },
     "output_type": "display_data"
    },
    {
     "data": {
      "image/png": "[encoded data removed]",
      "text/plain": [
       "<Figure size 288x288 with 1 Axes>"
      ]
     },
     "metadata": {
      "needs_background": "light"
     },
     "output_type": "display_data"
    },
    {
     "data": {
      "image/png": "[encoded data removed]",
      "text/plain": [
       "<Figure size 288x288 with 1 Axes>"
      ]
     },
     "metadata": {
      "needs_background": "light"
     },
     "output_type": "display_data"
    },
    {
     "data": {
      "image/png": "[encoded data removed]",
      "text/plain": [
       "<Figure size 288x288 with 1 Axes>"
      ]
     },
     "metadata": {
      "needs_background": "light"
     },
     "output_type": "display_data"
    },
    {
     "data": {
      "image/png": "[encoded data removed]",
      "text/plain": [
       "<Figure size 288x288 with 1 Axes>"
      ]
     },
     "metadata": {
      "needs_background": "light"
     },
     "output_type": "display_data"
    },
    {
     "data": {
      "image/png": "[encoded data removed]",
      "text/plain": [
       "<Figure size 288x288 with 1 Axes>"
      ]
     },
     "metadata": {
      "needs_background": "light"
     },
     "output_type": "display_data"
    },
    {
     "data": {
      "image/png": "[encoded data removed]",
      "text/plain": [
       "<Figure size 288x288 with 1 Axes>"
      ]
     },
     "metadata": {
      "needs_background": "light"
     },
     "output_type": "display_data"
    },
    {
     "data": {
      "image/png": "[encoded data removed]",
      "text/plain": [
       "<Figure size 288x288 with 1 Axes>"
      ]
     },
     "metadata": {
      "needs_background": "light"
     },
     "output_type": "display_data"
    },
    {
     "data": {
      "image/png": "[encoded data removed]",
      "text/plain": [
       "<Figure size 288x288 with 1 Axes>"
      ]
     },
     "metadata": {
      "needs_background": "light"
     },
     "output_type": "display_data"
    },
    {
     "data": {
      "image/png": "[encoded data removed]",
      "text/plain": [
       "<Figure size 288x288 with 1 Axes>"
      ]
     },
     "metadata": {
      "needs_background": "light"
     },
     "output_type": "display_data"
    },
    {
     "data": {
      "image/png": "[encoded data removed]",
      "text/plain": [
       "<Figure size 288x288 with 1 Axes>"
      ]
     },
     "metadata": {
      "needs_background": "light"
     },
     "output_type": "display_data"
    },
    {
     "data": {
      "image/png": "[encoded data removed]",
      "text/plain": [
       "<Figure size 288x288 with 1 Axes>"
      ]
     },
     "metadata": {
      "needs_background": "light"
     },
     "output_type": "display_data"
    },
    {
     "data": {
      "image/png": "[encoded data removed]",
      "text/plain": [
       "<Figure size 288x288 with 1 Axes>"
      ]
     },
     "metadata": {
      "needs_background": "light"
     },
     "output_type": "display_data"
    },
    {
     "data": {
      "image/png": "[encoded data removed]",
      "text/plain": [
       "<Figure size 288x288 with 1 Axes>"
      ]
     },
     "metadata": {
      "needs_background": "light"
     },
     "output_type": "display_data"
    },
    {
     "data": {
      "image/png": "[encoded data removed]",
      "text/plain": [
       "<Figure size 288x288 with 1 Axes>"
      ]
     },
     "metadata": {
      "needs_background": "light"
     },
     "output_type": "display_data"
    },
    {
     "data": {
      "image/png": "[encoded data removed]",
      "text/plain": [
       "<Figure size 288x288 with 1 Axes>"
      ]
     },
     "metadata": {
      "needs_background": "light"
     },
     "output_type": "display_data"
    },
    {
     "data": {
      "image/png": "[encoded data removed]",
      "text/plain": [
       "<Figure size 288x288 with 1 Axes>"
      ]
     },
     "metadata": {
      "needs_background": "light"
     },
     "output_type": "display_data"
    },
    {
     "data": {
      "image/png": "[encoded data removed]",
      "text/plain": [
       "<Figure size 288x288 with 1 Axes>"
      ]
     },
     "metadata": {
      "needs_background": "light"
     },
     "output_type": "display_data"
    },
    {
     "data": {
      "image/png": "[encoded data removed]",
      "text/plain": [
       "<Figure size 288x288 with 1 Axes>"
      ]
     },
     "metadata": {
      "needs_background": "light"
     },
     "output_type": "display_data"
    },
    {
     "data": {
      "image/png": "[encoded data removed]",
      "text/plain": [
       "<Figure size 288x288 with 1 Axes>"
      ]
     },
     "metadata": {
      "needs_background": "light"
     },
     "output_type": "display_data"
    },
    {
     "data": {
      "image/png": "[encoded data removed]",
      "text/plain": [
       "<Figure size 288x288 with 1 Axes>"
      ]
     },
     "metadata": {
      "needs_background": "light"
     },
     "output_type": "display_data"
    },
    {
     "data": {
      "image/png": "[encoded data removed]",
      "text/plain": [
       "<Figure size 288x288 with 1 Axes>"
      ]
     },
     "metadata": {
      "needs_background": "light"
     },
     "output_type": "display_data"
    },
    {
     "data": {
      "image/png": "[encoded data removed]",
      "text/plain": [
       "<Figure size 288x288 with 1 Axes>"
      ]
     },
     "metadata": {
      "needs_background": "light"
     },
     "output_type": "display_data"
    },
    {
     "data": {
      "image/png": "[encoded data removed]",
      "text/plain": [
       "<Figure size 288x288 with 1 Axes>"
      ]
     },
     "metadata": {
      "needs_background": "light"
     },
     "output_type": "display_data"
    },
    {
     "data": {
      "image/png": "[encoded data removed]",
      "text/plain": [
       "<Figure size 288x288 with 1 Axes>"
      ]
     },
     "metadata": {
      "needs_background": "light"
     },
     "output_type": "display_data"
    },
    {
     "data": {
      "image/png": "[encoded data removed]",
      "text/plain": [
       "<Figure size 288x288 with 1 Axes>"
      ]
     },
     "metadata": {
      "needs_background": "light"
     },
     "output_type": "display_data"
    },
    {
     "data": {
      "image/png": "[encoded data removed]",
      "text/plain": [
       "<Figure size 288x288 with 1 Axes>"
      ]
     },
     "metadata": {
      "needs_background": "light"
     },
     "output_type": "display_data"
    },
    {
     "data": {
      "image/png": "[encoded data removed]",
      "text/plain": [
       "<Figure size 288x288 with 1 Axes>"
      ]
     },
     "metadata": {
      "needs_background": "light"
     },
     "output_type": "display_data"
    },
    {
     "data": {
      "image/png": "[encoded data removed]",
      "text/plain": [
       "<Figure size 288x288 with 1 Axes>"
      ]
     },
     "metadata": {
      "needs_background": "light"
     },
     "output_type": "display_data"
    },
    {
     "data": {
      "image/png": "[encoded data removed]",
      "text/plain": [
       "<Figure size 288x288 with 1 Axes>"
      ]
     },
     "metadata": {
      "needs_background": "light"
     },
     "output_type": "display_data"
    },
    {
     "data": {
      "image/png": "[encoded data removed]",
      "text/plain": [
       "<Figure size 288x288 with 1 Axes>"
      ]
     },
     "metadata": {
      "needs_background": "light"
     },
     "output_type": "display_data"
    },
    {
     "data": {
      "image/png": "[encoded data removed]",
      "text/plain": [
       "<Figure size 288x288 with 1 Axes>"
      ]
     },
     "metadata": {
      "needs_background": "light"
     },
     "output_type": "display_data"
    },
    {
     "data": {
      "image/png": "[encoded data removed]",
      "text/plain": [
       "<Figure size 288x288 with 1 Axes>"
      ]
     },
     "metadata": {
      "needs_background": "light"
     },
     "output_type": "display_data"
    },
    {
     "data": {
      "image/png": "[encoded data removed]",
      "text/plain": [
       "<Figure size 288x288 with 1 Axes>"
      ]
     },
     "metadata": {
      "needs_background": "light"
     },
     "output_type": "display_data"
    },
    {
     "data": {
      "image/png": "[encoded data removed]",
      "text/plain": [
       "<Figure size 288x288 with 1 Axes>"
      ]
     },
     "metadata": {
      "needs_background": "light"
     },
     "output_type": "display_data"
    },
    {
     "data": {
      "image/png": "[encoded data removed]",
      "text/plain": [
       "<Figure size 288x288 with 1 Axes>"
      ]
     },
     "metadata": {
      "needs_background": "light"
     },
     "output_type": "display_data"
    },
    {
     "data": {
      "image/png": "[encoded data removed]",
      "text/plain": [
       "<Figure size 288x288 with 1 Axes>"
      ]
     },
     "metadata": {
      "needs_background": "light"
     },
     "output_type": "display_data"
    },
    {
     "data": {
      "image/png": "[encoded data removed]",
      "text/plain": [
       "<Figure size 288x288 with 1 Axes>"
      ]
     },
     "metadata": {
      "needs_background": "light"
     },
     "output_type": "display_data"
    },
    {
     "data": {
      "image/png": "[encoded data removed]",
      "text/plain": [
       "<Figure size 288x288 with 1 Axes>"
      ]
     },
     "metadata": {
      "needs_background": "light"
     },
     "output_type": "display_data"
    },
    {
     "data": {
      "image/png": "[encoded data removed]",
      "text/plain": [
       "<Figure size 288x288 with 1 Axes>"
      ]
     },
     "metadata": {
      "needs_background": "light"
     },
     "output_type": "display_data"
    },
    {
     "data": {
      "image/png": "[encoded data removed]",
      "text/plain": [
       "<Figure size 288x288 with 1 Axes>"
      ]
     },
     "metadata": {
      "needs_background": "light"
     },
     "output_type": "display_data"
    }
   ],
   "source": [
    "for feat in features:\n",
    "    plt.figure(figsize=(4,4))\n",
    "    fires[feat].hist()\n",
    "    plt.title(feat)\n",
    "    plt.show()"
   ]
  },
  {
   "cell_type": "markdown",
   "metadata": {},
   "source": [
    "Following features have outliers:\n",
    "1. Burn\n",
    "2. MnWndSp_Av\n",
    "3. AvAirT_Min\n",
    "4. AvHum_Max\n",
    "5. Precip_Tot\n",
    "6. BurnFrCh\n",
    "7. AvAirT_Min_3\n",
    "8. AvHum_Max_3\n",
    "9. AvAirT_Av_5\n",
    "10. AvAirT_AvDMin_5\n",
    "11. AvAirT_Min_5\n",
    "12. AvHum_Av_5\n",
    "13. AvHum_Max_5\n",
    "\n",
    "Following features are skewed in distribution:\n",
    "1. Burn\n",
    "2. Slr_Tot\n",
    "3. MaxWndGst\n",
    "4. AvHum_Min\n",
    "5. Precip_Tot\n",
    "6. Slr_Tot_3\n",
    "7. MaxWndGst_3\n",
    "8. AvAirT_Av_3\n",
    "9. AvAirT_AvDMin_3\n",
    "10. Precip_Tot_3\n",
    "11. Slr_Tot_5\n",
    "12. MaxWndGst_5\n",
    "13. AvAirT_Max_5\n",
    "14. AvAirT_AvDMin_5\n",
    "15. AvHumAv_5\n",
    "16. Precip_tot_5\n",
    "17. BurnFrCh\n",
    "\n"
   ]
  },
  {
   "cell_type": "markdown",
   "metadata": {},
   "source": [
    "### Feature Selection"
   ]
  },
  {
   "cell_type": "code",
   "execution_count": 8,
   "metadata": {},
   "outputs": [],
   "source": [
    "X = fires.drop(['Fire'],axis=1)\n",
    "Y = fires['Fire']"
   ]
  },
  {
   "cell_type": "code",
   "execution_count": 9,
   "metadata": {},
   "outputs": [],
   "source": [
    "## Train-test split\n",
    "from sklearn.model_selection import train_test_split\n",
    "X_train,X_test,Y_train,Y_test = train_test_split(X,Y,test_size=0.25,random_state=614,shuffle=True,stratify=Y) "
   ]
  },
  {
   "cell_type": "code",
   "execution_count": 10,
   "metadata": {},
   "outputs": [
    {
     "name": "stdout",
     "output_type": "stream",
     "text": [
      "AvAirT_Av_3 should be dropped\n",
      "AvAirT_AvDMax_3 should be dropped\n",
      "AvAirT_Max_3 should be dropped\n",
      "AvAirT_AvDMin_3 should be dropped\n",
      "AvHum_Max_3 should be dropped\n",
      "AvAirT_Av_5 should be dropped\n",
      "AvAirT_AvDMax_5 should be dropped\n",
      "AvAirT_Max_5 should be dropped\n",
      "AvAirT_AvDMin_5 should be dropped\n",
      "AvHum_Max_5 should be dropped\n"
     ]
    }
   ],
   "source": [
    "## Check for low variance features\n",
    "features_train = X_train.columns\n",
    "for feat in features_train:\n",
    "    threshold = 0.001\n",
    "    variance = X_train[feat].var()\n",
    "    if (variance<threshold):\n",
    "        print(feat, \"should be dropped\")\n",
    "drop_cols = (['AvAirT_Av_3','AvAirT_AvDMax_3','AvAirT_Max_3','AvAirT_AvDMin_3','AvHum_Max_3','AvAirT_Av_5','AvAirT_AvDMax_5','AvAirT_Max_5','AvAirT_AvDMin_5','AvHum_Max_5','Burn'])"
   ]
  },
  {
   "cell_type": "code",
   "execution_count": 11,
   "metadata": {},
   "outputs": [],
   "source": [
    "X_train = X_train.drop(drop_cols,axis=1)"
   ]
  },
  {
   "cell_type": "code",
   "execution_count": 12,
   "metadata": {},
   "outputs": [
    {
     "data": {
      "image/png": "[encoded data removed]",
      "text/plain": [
       "<Figure size 432x288 with 2 Axes>"
      ]
     },
     "metadata": {
      "needs_background": "light"
     },
     "output_type": "display_data"
    }
   ],
   "source": [
    "## Check for correlated features\n",
    "corr = X_train.corr()\n",
    "sns.heatmap(corr,annot=True)\n",
    "plt.show()"
   ]
  },
  {
   "cell_type": "code",
   "execution_count": 13,
   "metadata": {},
   "outputs": [],
   "source": [
    "## Removing highly correlated columns\n",
    "def correlation(dataframe,threshold):\n",
    "    col_corr = set()\n",
    "    corr_matrix = dataframe.corr()\n",
    "    for i in range(len(corr_matrix.columns)):\n",
    "        for j in range(i):\n",
    "            if abs(corr_matrix.iloc[i,j])>threshold:\n",
    "                colname = corr_matrix.columns[i]\n",
    "                col_corr.add(colname)\n",
    "    return col_corr"
   ]
  },
  {
   "cell_type": "code",
   "execution_count": 14,
   "metadata": {},
   "outputs": [
    {
     "data": {
      "text/plain": [
       "{'AvAirT_AvDMax',\n",
       " 'AvAirT_AvDMin',\n",
       " 'AvAirT_Min_5',\n",
       " 'AvHum_Av_5',\n",
       " 'AvHum_Min_3',\n",
       " 'AvHum_Min_5',\n",
       " 'MaxWndGst_5',\n",
       " 'MnWndDir_Av_5',\n",
       " 'MnWndSp_Av_5',\n",
       " 'Precip_Tot_5',\n",
       " 'Slr_Tot_5'}"
      ]
     },
     "execution_count": 14,
     "metadata": {},
     "output_type": "execute_result"
    }
   ],
   "source": [
    "correlation(X_train,0.8)"
   ]
  },
  {
   "cell_type": "code",
   "execution_count": 15,
   "metadata": {},
   "outputs": [
    {
     "name": "stdout",
     "output_type": "stream",
     "text": [
      "['AvAirT_AvDMax', 'Slr_Tot_5', 'MnWndDir_Av_5', 'Precip_Tot_5', 'MnWndSp_Av_5', 'AvAirT_Min_5', 'AvAirT_AvDMin', 'AvHum_Min_5', 'MaxWndGst_5', 'AvHum_Min_3', 'AvHum_Av_5']\n"
     ]
    }
   ],
   "source": [
    "corr_cols = list(correlation(X_train,0.8))\n",
    "print(corr_cols)"
   ]
  },
  {
   "cell_type": "code",
   "execution_count": 16,
   "metadata": {},
   "outputs": [],
   "source": [
    "X_train = X_train.drop(corr_cols,axis=1)"
   ]
  },
  {
   "cell_type": "code",
   "execution_count": 17,
   "metadata": {},
   "outputs": [
    {
     "data": {
      "text/html": [
       "<div>\n",
       "<style scoped>\n",
       "    .dataframe tbody tr th:only-of-type {\n",
       "        vertical-align: middle;\n",
       "    }\n",
       "\n",
       "    .dataframe tbody tr th {\n",
       "        vertical-align: top;\n",
       "    }\n",
       "\n",
       "    .dataframe thead th {\n",
       "        text-align: right;\n",
       "    }\n",
       "</style>\n",
       "<table border=\"1\" class=\"dataframe\">\n",
       "  <thead>\n",
       "    <tr style=\"text-align: right;\">\n",
       "      <th></th>\n",
       "      <th>Sector</th>\n",
       "      <th>Q</th>\n",
       "      <th>Year</th>\n",
       "      <th>Slr_Tot</th>\n",
       "      <th>MnWndSp_Av</th>\n",
       "      <th>MnWndDir_Av</th>\n",
       "      <th>MaxWndGst</th>\n",
       "      <th>AvAirT_Av</th>\n",
       "      <th>AvAirT_Max</th>\n",
       "      <th>AvAirT_Min</th>\n",
       "      <th>...</th>\n",
       "      <th>AvHum_Min</th>\n",
       "      <th>Precip_Tot</th>\n",
       "      <th>Slr_Tot_3</th>\n",
       "      <th>MnWndSp_Av_3</th>\n",
       "      <th>MnWndDir_Av_3</th>\n",
       "      <th>MaxWndGst_3</th>\n",
       "      <th>AvAirT_Min_3</th>\n",
       "      <th>AvHum_Av_3</th>\n",
       "      <th>Precip_Tot_3</th>\n",
       "      <th>BurnFrCh</th>\n",
       "    </tr>\n",
       "  </thead>\n",
       "  <tbody>\n",
       "    <tr>\n",
       "      <th>331</th>\n",
       "      <td>3</td>\n",
       "      <td>4</td>\n",
       "      <td>1993</td>\n",
       "      <td>0.000000</td>\n",
       "      <td>-0.243564</td>\n",
       "      <td>0.065933</td>\n",
       "      <td>-0.053317</td>\n",
       "      <td>-0.014775</td>\n",
       "      <td>0.015961</td>\n",
       "      <td>-0.025125</td>\n",
       "      <td>...</td>\n",
       "      <td>-0.082030</td>\n",
       "      <td>-0.603448</td>\n",
       "      <td>0.000000</td>\n",
       "      <td>-0.193768</td>\n",
       "      <td>-0.032941</td>\n",
       "      <td>0.369336</td>\n",
       "      <td>-0.035731</td>\n",
       "      <td>0.078988</td>\n",
       "      <td>-0.269624</td>\n",
       "      <td>-0.613544</td>\n",
       "    </tr>\n",
       "    <tr>\n",
       "      <th>291</th>\n",
       "      <td>2</td>\n",
       "      <td>4</td>\n",
       "      <td>2010</td>\n",
       "      <td>-0.058017</td>\n",
       "      <td>0.034531</td>\n",
       "      <td>0.169547</td>\n",
       "      <td>-0.205049</td>\n",
       "      <td>-0.025234</td>\n",
       "      <td>0.011634</td>\n",
       "      <td>0.007583</td>\n",
       "      <td>...</td>\n",
       "      <td>0.377358</td>\n",
       "      <td>2.265805</td>\n",
       "      <td>0.059508</td>\n",
       "      <td>0.122707</td>\n",
       "      <td>-0.060071</td>\n",
       "      <td>-0.095943</td>\n",
       "      <td>0.054806</td>\n",
       "      <td>-0.025044</td>\n",
       "      <td>0.043322</td>\n",
       "      <td>-0.981002</td>\n",
       "    </tr>\n",
       "    <tr>\n",
       "      <th>515</th>\n",
       "      <td>4</td>\n",
       "      <td>4</td>\n",
       "      <td>2012</td>\n",
       "      <td>-0.001174</td>\n",
       "      <td>0.118585</td>\n",
       "      <td>-0.000162</td>\n",
       "      <td>-0.175116</td>\n",
       "      <td>0.047488</td>\n",
       "      <td>0.102112</td>\n",
       "      <td>-0.056746</td>\n",
       "      <td>...</td>\n",
       "      <td>0.002194</td>\n",
       "      <td>-0.241349</td>\n",
       "      <td>0.033980</td>\n",
       "      <td>0.081334</td>\n",
       "      <td>0.015422</td>\n",
       "      <td>-0.185321</td>\n",
       "      <td>0.087207</td>\n",
       "      <td>-0.034424</td>\n",
       "      <td>-0.154952</td>\n",
       "      <td>-0.898640</td>\n",
       "    </tr>\n",
       "    <tr>\n",
       "      <th>521</th>\n",
       "      <td>4</td>\n",
       "      <td>2</td>\n",
       "      <td>2014</td>\n",
       "      <td>0.098144</td>\n",
       "      <td>0.141193</td>\n",
       "      <td>-0.089058</td>\n",
       "      <td>-0.209785</td>\n",
       "      <td>0.048172</td>\n",
       "      <td>0.019866</td>\n",
       "      <td>0.115925</td>\n",
       "      <td>...</td>\n",
       "      <td>-0.385332</td>\n",
       "      <td>-0.805203</td>\n",
       "      <td>0.096552</td>\n",
       "      <td>0.061068</td>\n",
       "      <td>-0.044596</td>\n",
       "      <td>-0.195580</td>\n",
       "      <td>0.136698</td>\n",
       "      <td>-0.132835</td>\n",
       "      <td>-0.424965</td>\n",
       "      <td>-0.765779</td>\n",
       "    </tr>\n",
       "    <tr>\n",
       "      <th>289</th>\n",
       "      <td>2</td>\n",
       "      <td>2</td>\n",
       "      <td>2010</td>\n",
       "      <td>0.087754</td>\n",
       "      <td>0.123484</td>\n",
       "      <td>0.029991</td>\n",
       "      <td>-0.230435</td>\n",
       "      <td>-0.050926</td>\n",
       "      <td>-0.076538</td>\n",
       "      <td>0.010669</td>\n",
       "      <td>...</td>\n",
       "      <td>0.223505</td>\n",
       "      <td>0.045696</td>\n",
       "      <td>0.057998</td>\n",
       "      <td>0.128992</td>\n",
       "      <td>-0.086209</td>\n",
       "      <td>-0.014535</td>\n",
       "      <td>0.068893</td>\n",
       "      <td>-0.046452</td>\n",
       "      <td>-0.110475</td>\n",
       "      <td>-0.855353</td>\n",
       "    </tr>\n",
       "  </tbody>\n",
       "</table>\n",
       "<p>5 rows × 22 columns</p>\n",
       "</div>"
      ],
      "text/plain": [
       "     Sector  Q  Year   Slr_Tot  MnWndSp_Av  MnWndDir_Av  MaxWndGst  AvAirT_Av  \\\n",
       "331       3  4  1993  0.000000   -0.243564     0.065933  -0.053317  -0.014775   \n",
       "291       2  4  2010 -0.058017    0.034531     0.169547  -0.205049  -0.025234   \n",
       "515       4  4  2012 -0.001174    0.118585    -0.000162  -0.175116   0.047488   \n",
       "521       4  2  2014  0.098144    0.141193    -0.089058  -0.209785   0.048172   \n",
       "289       2  2  2010  0.087754    0.123484     0.029991  -0.230435  -0.050926   \n",
       "\n",
       "     AvAirT_Max  AvAirT_Min  ...  AvHum_Min  Precip_Tot  Slr_Tot_3  \\\n",
       "331    0.015961   -0.025125  ...  -0.082030   -0.603448   0.000000   \n",
       "291    0.011634    0.007583  ...   0.377358    2.265805   0.059508   \n",
       "515    0.102112   -0.056746  ...   0.002194   -0.241349   0.033980   \n",
       "521    0.019866    0.115925  ...  -0.385332   -0.805203   0.096552   \n",
       "289   -0.076538    0.010669  ...   0.223505    0.045696   0.057998   \n",
       "\n",
       "     MnWndSp_Av_3  MnWndDir_Av_3  MaxWndGst_3  AvAirT_Min_3  AvHum_Av_3  \\\n",
       "331     -0.193768      -0.032941     0.369336     -0.035731    0.078988   \n",
       "291      0.122707      -0.060071    -0.095943      0.054806   -0.025044   \n",
       "515      0.081334       0.015422    -0.185321      0.087207   -0.034424   \n",
       "521      0.061068      -0.044596    -0.195580      0.136698   -0.132835   \n",
       "289      0.128992      -0.086209    -0.014535      0.068893   -0.046452   \n",
       "\n",
       "     Precip_Tot_3  BurnFrCh  \n",
       "331     -0.269624 -0.613544  \n",
       "291      0.043322 -0.981002  \n",
       "515     -0.154952 -0.898640  \n",
       "521     -0.424965 -0.765779  \n",
       "289     -0.110475 -0.855353  \n",
       "\n",
       "[5 rows x 22 columns]"
      ]
     },
     "execution_count": 17,
     "metadata": {},
     "output_type": "execute_result"
    }
   ],
   "source": [
    "X_train.head()"
   ]
  },
  {
   "cell_type": "code",
   "execution_count": 18,
   "metadata": {},
   "outputs": [],
   "source": [
    "## Selecting features using Information Gain\n",
    "from sklearn.feature_selection import mutual_info_classif"
   ]
  },
  {
   "cell_type": "code",
   "execution_count": 19,
   "metadata": {},
   "outputs": [],
   "source": [
    "mutual_info = mutual_info_classif(X_train,Y_train)\n",
    "mutual_info = pd.Series(mutual_info)"
   ]
  },
  {
   "cell_type": "code",
   "execution_count": 20,
   "metadata": {},
   "outputs": [],
   "source": [
    "mutual_info.index = X_train.columns"
   ]
  },
  {
   "cell_type": "code",
   "execution_count": 21,
   "metadata": {},
   "outputs": [
    {
     "data": {
      "text/plain": [
       "Q                0.193256\n",
       "AvHum_Max        0.077001\n",
       "BurnFrCh         0.056202\n",
       "Precip_Tot       0.040765\n",
       "AvHum_Av         0.026373\n",
       "AvAirT_Min       0.022141\n",
       "MnWndDir_Av_3    0.021433\n",
       "MnWndSp_Av       0.014903\n",
       "MaxWndGst        0.014366\n",
       "AvHum_Min        0.013804\n",
       "Slr_Tot_3        0.012740\n",
       "AvAirT_Max       0.008943\n",
       "Sector           0.008221\n",
       "AvAirT_Av        0.005239\n",
       "MaxWndGst_3      0.003700\n",
       "AvHum_Av_3       0.003618\n",
       "AvAirT_Min_3     0.001339\n",
       "Precip_Tot_3     0.000000\n",
       "MnWndSp_Av_3     0.000000\n",
       "MnWndDir_Av      0.000000\n",
       "Slr_Tot          0.000000\n",
       "Year             0.000000\n",
       "dtype: float64"
      ]
     },
     "execution_count": 21,
     "metadata": {},
     "output_type": "execute_result"
    }
   ],
   "source": [
    "mutual_info.sort_values(ascending=False)"
   ]
  },
  {
   "cell_type": "code",
   "execution_count": 22,
   "metadata": {},
   "outputs": [
    {
     "data": {
      "text/plain": [
       "SelectKBest(k=12,\n",
       "            score_func=<function mutual_info_classif at 0x0000017C87F8D048>)"
      ]
     },
     "execution_count": 22,
     "metadata": {},
     "output_type": "execute_result"
    }
   ],
   "source": [
    "## Selecting colums with higher dependence on target\n",
    "from sklearn.feature_selection import SelectKBest\n",
    "selected_cols = SelectKBest(mutual_info_classif,k=12)\n",
    "selected_cols.fit(X_train,Y_train)"
   ]
  },
  {
   "cell_type": "code",
   "execution_count": 23,
   "metadata": {},
   "outputs": [],
   "source": [
    "keep_cols = X_train.columns[selected_cols.get_support()]"
   ]
  },
  {
   "cell_type": "code",
   "execution_count": 24,
   "metadata": {},
   "outputs": [
    {
     "data": {
      "text/html": [
       "<div>\n",
       "<style scoped>\n",
       "    .dataframe tbody tr th:only-of-type {\n",
       "        vertical-align: middle;\n",
       "    }\n",
       "\n",
       "    .dataframe tbody tr th {\n",
       "        vertical-align: top;\n",
       "    }\n",
       "\n",
       "    .dataframe thead th {\n",
       "        text-align: right;\n",
       "    }\n",
       "</style>\n",
       "<table border=\"1\" class=\"dataframe\">\n",
       "  <thead>\n",
       "    <tr style=\"text-align: right;\">\n",
       "      <th></th>\n",
       "      <th>Sector</th>\n",
       "      <th>Q</th>\n",
       "      <th>MnWndSp_Av</th>\n",
       "      <th>MaxWndGst</th>\n",
       "      <th>AvAirT_Max</th>\n",
       "      <th>AvAirT_Min</th>\n",
       "      <th>AvHum_Av</th>\n",
       "      <th>AvHum_Max</th>\n",
       "      <th>AvHum_Min</th>\n",
       "      <th>Precip_Tot</th>\n",
       "      <th>MnWndDir_Av_3</th>\n",
       "      <th>BurnFrCh</th>\n",
       "    </tr>\n",
       "  </thead>\n",
       "  <tbody>\n",
       "    <tr>\n",
       "      <th>331</th>\n",
       "      <td>3</td>\n",
       "      <td>4</td>\n",
       "      <td>-0.243564</td>\n",
       "      <td>-0.053317</td>\n",
       "      <td>0.015961</td>\n",
       "      <td>-0.025125</td>\n",
       "      <td>-0.011608</td>\n",
       "      <td>-0.008812</td>\n",
       "      <td>-0.082030</td>\n",
       "      <td>-0.603448</td>\n",
       "      <td>-0.032941</td>\n",
       "      <td>-0.613544</td>\n",
       "    </tr>\n",
       "    <tr>\n",
       "      <th>291</th>\n",
       "      <td>2</td>\n",
       "      <td>4</td>\n",
       "      <td>0.034531</td>\n",
       "      <td>-0.205049</td>\n",
       "      <td>0.011634</td>\n",
       "      <td>0.007583</td>\n",
       "      <td>0.240241</td>\n",
       "      <td>0.013601</td>\n",
       "      <td>0.377358</td>\n",
       "      <td>2.265805</td>\n",
       "      <td>-0.060071</td>\n",
       "      <td>-0.981002</td>\n",
       "    </tr>\n",
       "    <tr>\n",
       "      <th>515</th>\n",
       "      <td>4</td>\n",
       "      <td>4</td>\n",
       "      <td>0.118585</td>\n",
       "      <td>-0.175116</td>\n",
       "      <td>0.102112</td>\n",
       "      <td>-0.056746</td>\n",
       "      <td>0.051112</td>\n",
       "      <td>0.012844</td>\n",
       "      <td>0.002194</td>\n",
       "      <td>-0.241349</td>\n",
       "      <td>0.015422</td>\n",
       "      <td>-0.898640</td>\n",
       "    </tr>\n",
       "    <tr>\n",
       "      <th>521</th>\n",
       "      <td>4</td>\n",
       "      <td>2</td>\n",
       "      <td>0.141193</td>\n",
       "      <td>-0.209785</td>\n",
       "      <td>0.019866</td>\n",
       "      <td>0.115925</td>\n",
       "      <td>-0.270548</td>\n",
       "      <td>-0.087627</td>\n",
       "      <td>-0.385332</td>\n",
       "      <td>-0.805203</td>\n",
       "      <td>-0.044596</td>\n",
       "      <td>-0.765779</td>\n",
       "    </tr>\n",
       "    <tr>\n",
       "      <th>289</th>\n",
       "      <td>2</td>\n",
       "      <td>2</td>\n",
       "      <td>0.123484</td>\n",
       "      <td>-0.230435</td>\n",
       "      <td>-0.076538</td>\n",
       "      <td>0.010669</td>\n",
       "      <td>0.053560</td>\n",
       "      <td>-0.009090</td>\n",
       "      <td>0.223505</td>\n",
       "      <td>0.045696</td>\n",
       "      <td>-0.086209</td>\n",
       "      <td>-0.855353</td>\n",
       "    </tr>\n",
       "  </tbody>\n",
       "</table>\n",
       "</div>"
      ],
      "text/plain": [
       "     Sector  Q  MnWndSp_Av  MaxWndGst  AvAirT_Max  AvAirT_Min  AvHum_Av  \\\n",
       "331       3  4   -0.243564  -0.053317    0.015961   -0.025125 -0.011608   \n",
       "291       2  4    0.034531  -0.205049    0.011634    0.007583  0.240241   \n",
       "515       4  4    0.118585  -0.175116    0.102112   -0.056746  0.051112   \n",
       "521       4  2    0.141193  -0.209785    0.019866    0.115925 -0.270548   \n",
       "289       2  2    0.123484  -0.230435   -0.076538    0.010669  0.053560   \n",
       "\n",
       "     AvHum_Max  AvHum_Min  Precip_Tot  MnWndDir_Av_3  BurnFrCh  \n",
       "331  -0.008812  -0.082030   -0.603448      -0.032941 -0.613544  \n",
       "291   0.013601   0.377358    2.265805      -0.060071 -0.981002  \n",
       "515   0.012844   0.002194   -0.241349       0.015422 -0.898640  \n",
       "521  -0.087627  -0.385332   -0.805203      -0.044596 -0.765779  \n",
       "289  -0.009090   0.223505    0.045696      -0.086209 -0.855353  "
      ]
     },
     "execution_count": 24,
     "metadata": {},
     "output_type": "execute_result"
    }
   ],
   "source": [
    "## Picking only the above 12 columns for further analysis\n",
    "X_train = X_train[keep_cols]\n",
    "X_train.head()"
   ]
  },
  {
   "cell_type": "markdown",
   "metadata": {},
   "source": [
    "#### Fixing data imbalance"
   ]
  },
  {
   "cell_type": "code",
   "execution_count": 25,
   "metadata": {},
   "outputs": [
    {
     "data": {
      "text/plain": [
       "1    338\n",
       "0     67\n",
       "Name: Fire, dtype: int64"
      ]
     },
     "execution_count": 25,
     "metadata": {},
     "output_type": "execute_result"
    }
   ],
   "source": [
    "## Looking at imbalance\n",
    "Y_train.value_counts()"
   ]
  },
  {
   "cell_type": "code",
   "execution_count": 26,
   "metadata": {},
   "outputs": [],
   "source": [
    "from imblearn.over_sampling import RandomOverSampler"
   ]
  },
  {
   "cell_type": "code",
   "execution_count": 30,
   "metadata": {},
   "outputs": [],
   "source": [
    "ros= RandomOverSampler(0.75)"
   ]
  },
  {
   "cell_type": "code",
   "execution_count": 31,
   "metadata": {},
   "outputs": [],
   "source": [
    "X_train_ros,Y_train_ros = ros.fit_resample(X_train,Y_train)"
   ]
  },
  {
   "cell_type": "code",
   "execution_count": 32,
   "metadata": {},
   "outputs": [
    {
     "data": {
      "text/plain": [
       "1    338\n",
       "0    253\n",
       "Name: Fire, dtype: int64"
      ]
     },
     "execution_count": 32,
     "metadata": {},
     "output_type": "execute_result"
    }
   ],
   "source": [
    "Y_train_ros.value_counts()"
   ]
  },
  {
   "cell_type": "code",
   "execution_count": 33,
   "metadata": {},
   "outputs": [
    {
     "data": {
      "text/html": [
       "<div>\n",
       "<style scoped>\n",
       "    .dataframe tbody tr th:only-of-type {\n",
       "        vertical-align: middle;\n",
       "    }\n",
       "\n",
       "    .dataframe tbody tr th {\n",
       "        vertical-align: top;\n",
       "    }\n",
       "\n",
       "    .dataframe thead th {\n",
       "        text-align: right;\n",
       "    }\n",
       "</style>\n",
       "<table border=\"1\" class=\"dataframe\">\n",
       "  <thead>\n",
       "    <tr style=\"text-align: right;\">\n",
       "      <th></th>\n",
       "      <th>Sector</th>\n",
       "      <th>Q</th>\n",
       "      <th>MnWndSp_Av</th>\n",
       "      <th>MaxWndGst</th>\n",
       "      <th>AvAirT_Max</th>\n",
       "      <th>AvAirT_Min</th>\n",
       "      <th>AvHum_Av</th>\n",
       "      <th>AvHum_Max</th>\n",
       "      <th>AvHum_Min</th>\n",
       "      <th>Precip_Tot</th>\n",
       "      <th>MnWndDir_Av_3</th>\n",
       "      <th>BurnFrCh</th>\n",
       "    </tr>\n",
       "  </thead>\n",
       "  <tbody>\n",
       "    <tr>\n",
       "      <th>0</th>\n",
       "      <td>3</td>\n",
       "      <td>4</td>\n",
       "      <td>-0.243564</td>\n",
       "      <td>-0.053317</td>\n",
       "      <td>0.015961</td>\n",
       "      <td>-0.025125</td>\n",
       "      <td>-0.011608</td>\n",
       "      <td>-0.008812</td>\n",
       "      <td>-0.082030</td>\n",
       "      <td>-0.603448</td>\n",
       "      <td>-0.032941</td>\n",
       "      <td>-0.613544</td>\n",
       "    </tr>\n",
       "    <tr>\n",
       "      <th>1</th>\n",
       "      <td>2</td>\n",
       "      <td>4</td>\n",
       "      <td>0.034531</td>\n",
       "      <td>-0.205049</td>\n",
       "      <td>0.011634</td>\n",
       "      <td>0.007583</td>\n",
       "      <td>0.240241</td>\n",
       "      <td>0.013601</td>\n",
       "      <td>0.377358</td>\n",
       "      <td>2.265805</td>\n",
       "      <td>-0.060071</td>\n",
       "      <td>-0.981002</td>\n",
       "    </tr>\n",
       "    <tr>\n",
       "      <th>2</th>\n",
       "      <td>4</td>\n",
       "      <td>4</td>\n",
       "      <td>0.118585</td>\n",
       "      <td>-0.175116</td>\n",
       "      <td>0.102112</td>\n",
       "      <td>-0.056746</td>\n",
       "      <td>0.051112</td>\n",
       "      <td>0.012844</td>\n",
       "      <td>0.002194</td>\n",
       "      <td>-0.241349</td>\n",
       "      <td>0.015422</td>\n",
       "      <td>-0.898640</td>\n",
       "    </tr>\n",
       "    <tr>\n",
       "      <th>3</th>\n",
       "      <td>4</td>\n",
       "      <td>2</td>\n",
       "      <td>0.141193</td>\n",
       "      <td>-0.209785</td>\n",
       "      <td>0.019866</td>\n",
       "      <td>0.115925</td>\n",
       "      <td>-0.270548</td>\n",
       "      <td>-0.087627</td>\n",
       "      <td>-0.385332</td>\n",
       "      <td>-0.805203</td>\n",
       "      <td>-0.044596</td>\n",
       "      <td>-0.765779</td>\n",
       "    </tr>\n",
       "    <tr>\n",
       "      <th>4</th>\n",
       "      <td>2</td>\n",
       "      <td>2</td>\n",
       "      <td>0.123484</td>\n",
       "      <td>-0.230435</td>\n",
       "      <td>-0.076538</td>\n",
       "      <td>0.010669</td>\n",
       "      <td>0.053560</td>\n",
       "      <td>-0.009090</td>\n",
       "      <td>0.223505</td>\n",
       "      <td>0.045696</td>\n",
       "      <td>-0.086209</td>\n",
       "      <td>-0.855353</td>\n",
       "    </tr>\n",
       "  </tbody>\n",
       "</table>\n",
       "</div>"
      ],
      "text/plain": [
       "   Sector  Q  MnWndSp_Av  MaxWndGst  AvAirT_Max  AvAirT_Min  AvHum_Av  \\\n",
       "0       3  4   -0.243564  -0.053317    0.015961   -0.025125 -0.011608   \n",
       "1       2  4    0.034531  -0.205049    0.011634    0.007583  0.240241   \n",
       "2       4  4    0.118585  -0.175116    0.102112   -0.056746  0.051112   \n",
       "3       4  2    0.141193  -0.209785    0.019866    0.115925 -0.270548   \n",
       "4       2  2    0.123484  -0.230435   -0.076538    0.010669  0.053560   \n",
       "\n",
       "   AvHum_Max  AvHum_Min  Precip_Tot  MnWndDir_Av_3  BurnFrCh  \n",
       "0  -0.008812  -0.082030   -0.603448      -0.032941 -0.613544  \n",
       "1   0.013601   0.377358    2.265805      -0.060071 -0.981002  \n",
       "2   0.012844   0.002194   -0.241349       0.015422 -0.898640  \n",
       "3  -0.087627  -0.385332   -0.805203      -0.044596 -0.765779  \n",
       "4  -0.009090   0.223505    0.045696      -0.086209 -0.855353  "
      ]
     },
     "execution_count": 33,
     "metadata": {},
     "output_type": "execute_result"
    }
   ],
   "source": [
    "X_train_ros.head()"
   ]
  },
  {
   "cell_type": "code",
   "execution_count": 35,
   "metadata": {},
   "outputs": [
    {
     "data": {
      "text/html": [
       "<div>\n",
       "<style scoped>\n",
       "    .dataframe tbody tr th:only-of-type {\n",
       "        vertical-align: middle;\n",
       "    }\n",
       "\n",
       "    .dataframe tbody tr th {\n",
       "        vertical-align: top;\n",
       "    }\n",
       "\n",
       "    .dataframe thead th {\n",
       "        text-align: right;\n",
       "    }\n",
       "</style>\n",
       "<table border=\"1\" class=\"dataframe\">\n",
       "  <thead>\n",
       "    <tr style=\"text-align: right;\">\n",
       "      <th></th>\n",
       "      <th>Sector</th>\n",
       "      <th>Q</th>\n",
       "      <th>MnWndSp_Av</th>\n",
       "      <th>MaxWndGst</th>\n",
       "      <th>AvAirT_Max</th>\n",
       "      <th>AvAirT_Min</th>\n",
       "      <th>AvHum_Av</th>\n",
       "      <th>AvHum_Max</th>\n",
       "      <th>AvHum_Min</th>\n",
       "      <th>Precip_Tot</th>\n",
       "      <th>MnWndDir_Av_3</th>\n",
       "      <th>BurnFrCh</th>\n",
       "      <th>Fire</th>\n",
       "    </tr>\n",
       "  </thead>\n",
       "  <tbody>\n",
       "    <tr>\n",
       "      <th>0</th>\n",
       "      <td>3</td>\n",
       "      <td>4</td>\n",
       "      <td>-0.243564</td>\n",
       "      <td>-0.053317</td>\n",
       "      <td>0.015961</td>\n",
       "      <td>-0.025125</td>\n",
       "      <td>-0.011608</td>\n",
       "      <td>-0.008812</td>\n",
       "      <td>-0.082030</td>\n",
       "      <td>-0.603448</td>\n",
       "      <td>-0.032941</td>\n",
       "      <td>-0.613544</td>\n",
       "      <td>1</td>\n",
       "    </tr>\n",
       "    <tr>\n",
       "      <th>1</th>\n",
       "      <td>2</td>\n",
       "      <td>4</td>\n",
       "      <td>0.034531</td>\n",
       "      <td>-0.205049</td>\n",
       "      <td>0.011634</td>\n",
       "      <td>0.007583</td>\n",
       "      <td>0.240241</td>\n",
       "      <td>0.013601</td>\n",
       "      <td>0.377358</td>\n",
       "      <td>2.265805</td>\n",
       "      <td>-0.060071</td>\n",
       "      <td>-0.981002</td>\n",
       "      <td>1</td>\n",
       "    </tr>\n",
       "    <tr>\n",
       "      <th>2</th>\n",
       "      <td>4</td>\n",
       "      <td>4</td>\n",
       "      <td>0.118585</td>\n",
       "      <td>-0.175116</td>\n",
       "      <td>0.102112</td>\n",
       "      <td>-0.056746</td>\n",
       "      <td>0.051112</td>\n",
       "      <td>0.012844</td>\n",
       "      <td>0.002194</td>\n",
       "      <td>-0.241349</td>\n",
       "      <td>0.015422</td>\n",
       "      <td>-0.898640</td>\n",
       "      <td>1</td>\n",
       "    </tr>\n",
       "    <tr>\n",
       "      <th>3</th>\n",
       "      <td>4</td>\n",
       "      <td>2</td>\n",
       "      <td>0.141193</td>\n",
       "      <td>-0.209785</td>\n",
       "      <td>0.019866</td>\n",
       "      <td>0.115925</td>\n",
       "      <td>-0.270548</td>\n",
       "      <td>-0.087627</td>\n",
       "      <td>-0.385332</td>\n",
       "      <td>-0.805203</td>\n",
       "      <td>-0.044596</td>\n",
       "      <td>-0.765779</td>\n",
       "      <td>1</td>\n",
       "    </tr>\n",
       "    <tr>\n",
       "      <th>4</th>\n",
       "      <td>2</td>\n",
       "      <td>2</td>\n",
       "      <td>0.123484</td>\n",
       "      <td>-0.230435</td>\n",
       "      <td>-0.076538</td>\n",
       "      <td>0.010669</td>\n",
       "      <td>0.053560</td>\n",
       "      <td>-0.009090</td>\n",
       "      <td>0.223505</td>\n",
       "      <td>0.045696</td>\n",
       "      <td>-0.086209</td>\n",
       "      <td>-0.855353</td>\n",
       "      <td>1</td>\n",
       "    </tr>\n",
       "  </tbody>\n",
       "</table>\n",
       "</div>"
      ],
      "text/plain": [
       "   Sector  Q  MnWndSp_Av  MaxWndGst  AvAirT_Max  AvAirT_Min  AvHum_Av  \\\n",
       "0       3  4   -0.243564  -0.053317    0.015961   -0.025125 -0.011608   \n",
       "1       2  4    0.034531  -0.205049    0.011634    0.007583  0.240241   \n",
       "2       4  4    0.118585  -0.175116    0.102112   -0.056746  0.051112   \n",
       "3       4  2    0.141193  -0.209785    0.019866    0.115925 -0.270548   \n",
       "4       2  2    0.123484  -0.230435   -0.076538    0.010669  0.053560   \n",
       "\n",
       "   AvHum_Max  AvHum_Min  Precip_Tot  MnWndDir_Av_3  BurnFrCh  Fire  \n",
       "0  -0.008812  -0.082030   -0.603448      -0.032941 -0.613544     1  \n",
       "1   0.013601   0.377358    2.265805      -0.060071 -0.981002     1  \n",
       "2   0.012844   0.002194   -0.241349       0.015422 -0.898640     1  \n",
       "3  -0.087627  -0.385332   -0.805203      -0.044596 -0.765779     1  \n",
       "4  -0.009090   0.223505    0.045696      -0.086209 -0.855353     1  "
      ]
     },
     "execution_count": 35,
     "metadata": {},
     "output_type": "execute_result"
    }
   ],
   "source": [
    "fires_train = pd.concat([X_train_ros,Y_train_ros],axis =1)\n",
    "fires_train.head()"
   ]
  },
  {
   "cell_type": "code",
   "execution_count": 37,
   "metadata": {},
   "outputs": [],
   "source": [
    "fires_train.to_csv(\"fires_train.csv\",index=False)"
   ]
  },
  {
   "cell_type": "markdown",
   "metadata": {},
   "source": [
    "#### Testing with Burn Threshold>1500 to get an inherently balanced dataset"
   ]
  },
  {
   "cell_type": "code",
   "execution_count": 26,
   "metadata": {},
   "outputs": [
    {
     "data": {
      "text/html": [
       "<div>\n",
       "<style scoped>\n",
       "    .dataframe tbody tr th:only-of-type {\n",
       "        vertical-align: middle;\n",
       "    }\n",
       "\n",
       "    .dataframe tbody tr th {\n",
       "        vertical-align: top;\n",
       "    }\n",
       "\n",
       "    .dataframe thead th {\n",
       "        text-align: right;\n",
       "    }\n",
       "</style>\n",
       "<table border=\"1\" class=\"dataframe\">\n",
       "  <thead>\n",
       "    <tr style=\"text-align: right;\">\n",
       "      <th></th>\n",
       "      <th>Sector</th>\n",
       "      <th>Q</th>\n",
       "      <th>Year</th>\n",
       "      <th>Burn</th>\n",
       "      <th>Slr_Tot</th>\n",
       "      <th>MnWndSp_Av</th>\n",
       "      <th>MnWndDir_Av</th>\n",
       "      <th>MaxWndGst</th>\n",
       "      <th>AvAirT_Av</th>\n",
       "      <th>AvAirT_AvDMax</th>\n",
       "      <th>...</th>\n",
       "      <th>AvAirT_Av_5</th>\n",
       "      <th>AvAirT_AvDMax_5</th>\n",
       "      <th>AvAirT_Max_5</th>\n",
       "      <th>AvAirT_AvDMin_5</th>\n",
       "      <th>AvAirT_Min_5</th>\n",
       "      <th>AvHum_Av_5</th>\n",
       "      <th>AvHum_Max_5</th>\n",
       "      <th>AvHum_Min_5</th>\n",
       "      <th>Precip_Tot_5</th>\n",
       "      <th>BurnFrCh</th>\n",
       "    </tr>\n",
       "  </thead>\n",
       "  <tbody>\n",
       "    <tr>\n",
       "      <th>0</th>\n",
       "      <td>0</td>\n",
       "      <td>1</td>\n",
       "      <td>1992</td>\n",
       "      <td>92.2</td>\n",
       "      <td>0.0</td>\n",
       "      <td>0.073278</td>\n",
       "      <td>0.012646</td>\n",
       "      <td>-0.119249</td>\n",
       "      <td>0.061706</td>\n",
       "      <td>0.035769</td>\n",
       "      <td>...</td>\n",
       "      <td>0.061706</td>\n",
       "      <td>0.035769</td>\n",
       "      <td>0.004654</td>\n",
       "      <td>0.097781</td>\n",
       "      <td>0.682232</td>\n",
       "      <td>-0.253551</td>\n",
       "      <td>-0.096265</td>\n",
       "      <td>-0.407430</td>\n",
       "      <td>-0.438836</td>\n",
       "      <td>-0.450850</td>\n",
       "    </tr>\n",
       "    <tr>\n",
       "      <th>1</th>\n",
       "      <td>0</td>\n",
       "      <td>2</td>\n",
       "      <td>1992</td>\n",
       "      <td>6457.0</td>\n",
       "      <td>0.0</td>\n",
       "      <td>0.100879</td>\n",
       "      <td>0.062195</td>\n",
       "      <td>0.494236</td>\n",
       "      <td>0.091426</td>\n",
       "      <td>0.088843</td>\n",
       "      <td>...</td>\n",
       "      <td>0.076566</td>\n",
       "      <td>0.062306</td>\n",
       "      <td>0.032547</td>\n",
       "      <td>0.095321</td>\n",
       "      <td>0.360373</td>\n",
       "      <td>-0.183629</td>\n",
       "      <td>-0.041720</td>\n",
       "      <td>-0.387987</td>\n",
       "      <td>-0.478321</td>\n",
       "      <td>-0.469665</td>\n",
       "    </tr>\n",
       "    <tr>\n",
       "      <th>2</th>\n",
       "      <td>0</td>\n",
       "      <td>3</td>\n",
       "      <td>1992</td>\n",
       "      <td>74943.7</td>\n",
       "      <td>0.0</td>\n",
       "      <td>0.141522</td>\n",
       "      <td>0.516184</td>\n",
       "      <td>0.184578</td>\n",
       "      <td>0.005348</td>\n",
       "      <td>-0.001681</td>\n",
       "      <td>...</td>\n",
       "      <td>0.052826</td>\n",
       "      <td>0.040977</td>\n",
       "      <td>0.024636</td>\n",
       "      <td>0.065978</td>\n",
       "      <td>0.223777</td>\n",
       "      <td>-0.138329</td>\n",
       "      <td>-0.017073</td>\n",
       "      <td>-0.333035</td>\n",
       "      <td>-0.470012</td>\n",
       "      <td>-0.075560</td>\n",
       "    </tr>\n",
       "    <tr>\n",
       "      <th>3</th>\n",
       "      <td>0</td>\n",
       "      <td>4</td>\n",
       "      <td>1992</td>\n",
       "      <td>365.1</td>\n",
       "      <td>0.0</td>\n",
       "      <td>0.135283</td>\n",
       "      <td>0.040399</td>\n",
       "      <td>0.109643</td>\n",
       "      <td>-0.029742</td>\n",
       "      <td>-0.015678</td>\n",
       "      <td>...</td>\n",
       "      <td>0.032184</td>\n",
       "      <td>0.026813</td>\n",
       "      <td>0.018601</td>\n",
       "      <td>0.032827</td>\n",
       "      <td>0.145657</td>\n",
       "      <td>-0.093192</td>\n",
       "      <td>-0.008157</td>\n",
       "      <td>-0.293254</td>\n",
       "      <td>-0.337562</td>\n",
       "      <td>-0.962551</td>\n",
       "    </tr>\n",
       "    <tr>\n",
       "      <th>4</th>\n",
       "      <td>0</td>\n",
       "      <td>1</td>\n",
       "      <td>1993</td>\n",
       "      <td>24.4</td>\n",
       "      <td>0.0</td>\n",
       "      <td>0.030207</td>\n",
       "      <td>-0.024922</td>\n",
       "      <td>-0.031629</td>\n",
       "      <td>-0.090862</td>\n",
       "      <td>-0.095361</td>\n",
       "      <td>...</td>\n",
       "      <td>0.007575</td>\n",
       "      <td>0.002378</td>\n",
       "      <td>-0.006838</td>\n",
       "      <td>0.009316</td>\n",
       "      <td>0.028678</td>\n",
       "      <td>-0.039078</td>\n",
       "      <td>-0.003671</td>\n",
       "      <td>-0.106159</td>\n",
       "      <td>-0.297954</td>\n",
       "      <td>-0.854672</td>\n",
       "    </tr>\n",
       "  </tbody>\n",
       "</table>\n",
       "<p>5 rows × 44 columns</p>\n",
       "</div>"
      ],
      "text/plain": [
       "   Sector  Q  Year     Burn  Slr_Tot  MnWndSp_Av  MnWndDir_Av  MaxWndGst  \\\n",
       "0       0  1  1992     92.2      0.0    0.073278     0.012646  -0.119249   \n",
       "1       0  2  1992   6457.0      0.0    0.100879     0.062195   0.494236   \n",
       "2       0  3  1992  74943.7      0.0    0.141522     0.516184   0.184578   \n",
       "3       0  4  1992    365.1      0.0    0.135283     0.040399   0.109643   \n",
       "4       0  1  1993     24.4      0.0    0.030207    -0.024922  -0.031629   \n",
       "\n",
       "   AvAirT_Av  AvAirT_AvDMax  ...  AvAirT_Av_5  AvAirT_AvDMax_5  AvAirT_Max_5  \\\n",
       "0   0.061706       0.035769  ...     0.061706         0.035769      0.004654   \n",
       "1   0.091426       0.088843  ...     0.076566         0.062306      0.032547   \n",
       "2   0.005348      -0.001681  ...     0.052826         0.040977      0.024636   \n",
       "3  -0.029742      -0.015678  ...     0.032184         0.026813      0.018601   \n",
       "4  -0.090862      -0.095361  ...     0.007575         0.002378     -0.006838   \n",
       "\n",
       "   AvAirT_AvDMin_5  AvAirT_Min_5  AvHum_Av_5  AvHum_Max_5  AvHum_Min_5  \\\n",
       "0         0.097781      0.682232   -0.253551    -0.096265    -0.407430   \n",
       "1         0.095321      0.360373   -0.183629    -0.041720    -0.387987   \n",
       "2         0.065978      0.223777   -0.138329    -0.017073    -0.333035   \n",
       "3         0.032827      0.145657   -0.093192    -0.008157    -0.293254   \n",
       "4         0.009316      0.028678   -0.039078    -0.003671    -0.106159   \n",
       "\n",
       "   Precip_Tot_5  BurnFrCh  \n",
       "0     -0.438836 -0.450850  \n",
       "1     -0.478321 -0.469665  \n",
       "2     -0.470012 -0.075560  \n",
       "3     -0.337562 -0.962551  \n",
       "4     -0.297954 -0.854672  \n",
       "\n",
       "[5 rows x 44 columns]"
      ]
     },
     "execution_count": 26,
     "metadata": {},
     "output_type": "execute_result"
    }
   ],
   "source": [
    "fires.head()"
   ]
  },
  {
   "cell_type": "code",
   "execution_count": 27,
   "metadata": {},
   "outputs": [
    {
     "data": {
      "text/plain": [
       "1    314\n",
       "0    226\n",
       "Name: Fire, dtype: int64"
      ]
     },
     "execution_count": 27,
     "metadata": {},
     "output_type": "execute_result"
    }
   ],
   "source": [
    "fires['Fire'] = np.where(fires['Burn']<1500,0,1)\n",
    "## Check if data is balanced\n",
    "fires['Fire'].value_counts()"
   ]
  },
  {
   "cell_type": "code",
   "execution_count": 28,
   "metadata": {},
   "outputs": [],
   "source": [
    "X_1500 = fires.drop(['Fire'],axis=1)\n",
    "Y_1500 = fires['Fire']"
   ]
  },
  {
   "cell_type": "code",
   "execution_count": 29,
   "metadata": {},
   "outputs": [],
   "source": [
    "## Train-test split\n",
    "from sklearn.model_selection import train_test_split\n",
    "X_1500_train,X_1500_test,Y_1500_train,Y_1500_test = train_test_split(X_1500,Y_1500,test_size=0.25,random_state=614,shuffle=True,stratify=Y) "
   ]
  },
  {
   "cell_type": "code",
   "execution_count": 31,
   "metadata": {},
   "outputs": [
    {
     "name": "stdout",
     "output_type": "stream",
     "text": [
      "AvAirT_Av_3 should be dropped\n",
      "AvAirT_AvDMax_3 should be dropped\n",
      "AvAirT_Max_3 should be dropped\n",
      "AvAirT_AvDMin_3 should be dropped\n",
      "AvHum_Max_3 should be dropped\n",
      "AvAirT_Av_5 should be dropped\n",
      "AvAirT_AvDMax_5 should be dropped\n",
      "AvAirT_Max_5 should be dropped\n",
      "AvAirT_AvDMin_5 should be dropped\n",
      "AvHum_Max_5 should be dropped\n"
     ]
    }
   ],
   "source": [
    "## Check for low variance features\n",
    "features_train = X_train.columns\n",
    "for feat in features_train:\n",
    "    threshold = 0.001\n",
    "    variance = X_train[feat].var()\n",
    "    if (variance<threshold):\n",
    "        print(feat, \"should be dropped\")\n",
    "drop_cols = (['AvAirT_Av_3','AvAirT_AvDMax_3','AvAirT_Max_3','AvAirT_AvDMin_3','AvHum_Max_3','AvAirT_Av_5','AvAirT_AvDMax_5','AvAirT_Max_5','AvAirT_AvDMin_5','AvHum_Max_5','Burn'])"
   ]
  },
  {
   "cell_type": "code",
   "execution_count": 33,
   "metadata": {},
   "outputs": [],
   "source": [
    "X_1500_train = X_1500_train.drop(drop_cols,axis=1)"
   ]
  },
  {
   "cell_type": "code",
   "execution_count": 34,
   "metadata": {},
   "outputs": [],
   "source": [
    "## Removing highly correlated columns\n",
    "def correlation(dataframe,threshold):\n",
    "    col_corr = set()\n",
    "    corr_matrix = dataframe.corr()\n",
    "    for i in range(len(corr_matrix.columns)):\n",
    "        for j in range(i):\n",
    "            if abs(corr_matrix.iloc[i,j])>threshold:\n",
    "                colname = corr_matrix.columns[i]\n",
    "                col_corr.add(colname)\n",
    "    return col_corr"
   ]
  },
  {
   "cell_type": "code",
   "execution_count": 35,
   "metadata": {},
   "outputs": [
    {
     "data": {
      "text/plain": [
       "{'AvAirT_AvDMax',\n",
       " 'AvAirT_AvDMin',\n",
       " 'AvAirT_Min_5',\n",
       " 'AvHum_Av_5',\n",
       " 'AvHum_Min_3',\n",
       " 'AvHum_Min_5',\n",
       " 'MaxWndGst_5',\n",
       " 'MnWndDir_Av_5',\n",
       " 'MnWndSp_Av_5',\n",
       " 'Precip_Tot_5',\n",
       " 'Slr_Tot_5'}"
      ]
     },
     "execution_count": 35,
     "metadata": {},
     "output_type": "execute_result"
    }
   ],
   "source": [
    "correlation(X_1500_train,0.8)"
   ]
  },
  {
   "cell_type": "code",
   "execution_count": 36,
   "metadata": {},
   "outputs": [
    {
     "name": "stdout",
     "output_type": "stream",
     "text": [
      "['MnWndSp_Av_5', 'Slr_Tot_5', 'AvAirT_AvDMax', 'AvAirT_AvDMin', 'MaxWndGst_5', 'AvHum_Min_3', 'MnWndDir_Av_5', 'AvHum_Av_5', 'AvAirT_Min_5', 'Precip_Tot_5', 'AvHum_Min_5']\n"
     ]
    }
   ],
   "source": [
    "corr_cols_1500 = list(correlation(X_1500_train,0.8))\n",
    "print(corr_cols_1500)"
   ]
  },
  {
   "cell_type": "code",
   "execution_count": 37,
   "metadata": {},
   "outputs": [],
   "source": [
    "X_1500_train = X_1500_train.drop(corr_cols_1500,axis=1)\n"
   ]
  },
  {
   "cell_type": "code",
   "execution_count": 41,
   "metadata": {},
   "outputs": [
    {
     "data": {
      "text/html": [
       "<div>\n",
       "<style scoped>\n",
       "    .dataframe tbody tr th:only-of-type {\n",
       "        vertical-align: middle;\n",
       "    }\n",
       "\n",
       "    .dataframe tbody tr th {\n",
       "        vertical-align: top;\n",
       "    }\n",
       "\n",
       "    .dataframe thead th {\n",
       "        text-align: right;\n",
       "    }\n",
       "</style>\n",
       "<table border=\"1\" class=\"dataframe\">\n",
       "  <thead>\n",
       "    <tr style=\"text-align: right;\">\n",
       "      <th></th>\n",
       "      <th>Sector</th>\n",
       "      <th>Q</th>\n",
       "      <th>Year</th>\n",
       "      <th>Slr_Tot</th>\n",
       "      <th>MnWndSp_Av</th>\n",
       "      <th>MnWndDir_Av</th>\n",
       "      <th>MaxWndGst</th>\n",
       "      <th>AvAirT_Av</th>\n",
       "      <th>AvAirT_Max</th>\n",
       "      <th>AvAirT_Min</th>\n",
       "      <th>...</th>\n",
       "      <th>AvHum_Min</th>\n",
       "      <th>Precip_Tot</th>\n",
       "      <th>Slr_Tot_3</th>\n",
       "      <th>MnWndSp_Av_3</th>\n",
       "      <th>MnWndDir_Av_3</th>\n",
       "      <th>MaxWndGst_3</th>\n",
       "      <th>AvAirT_Min_3</th>\n",
       "      <th>AvHum_Av_3</th>\n",
       "      <th>Precip_Tot_3</th>\n",
       "      <th>BurnFrCh</th>\n",
       "    </tr>\n",
       "  </thead>\n",
       "  <tbody>\n",
       "    <tr>\n",
       "      <th>246</th>\n",
       "      <td>2</td>\n",
       "      <td>3</td>\n",
       "      <td>1999</td>\n",
       "      <td>0.012266</td>\n",
       "      <td>-0.051540</td>\n",
       "      <td>0.110910</td>\n",
       "      <td>-0.082534</td>\n",
       "      <td>-0.021119</td>\n",
       "      <td>-0.019712</td>\n",
       "      <td>-0.014543</td>\n",
       "      <td>...</td>\n",
       "      <td>-0.246524</td>\n",
       "      <td>-0.343357</td>\n",
       "      <td>-0.044166</td>\n",
       "      <td>-0.045180</td>\n",
       "      <td>0.083232</td>\n",
       "      <td>-0.070074</td>\n",
       "      <td>-0.004214</td>\n",
       "      <td>0.079303</td>\n",
       "      <td>0.243290</td>\n",
       "      <td>0.487162</td>\n",
       "    </tr>\n",
       "    <tr>\n",
       "      <th>456</th>\n",
       "      <td>4</td>\n",
       "      <td>1</td>\n",
       "      <td>1998</td>\n",
       "      <td>0.000000</td>\n",
       "      <td>0.144986</td>\n",
       "      <td>0.221427</td>\n",
       "      <td>0.277522</td>\n",
       "      <td>-0.058352</td>\n",
       "      <td>-0.048597</td>\n",
       "      <td>0.156968</td>\n",
       "      <td>...</td>\n",
       "      <td>0.635558</td>\n",
       "      <td>1.396811</td>\n",
       "      <td>0.000000</td>\n",
       "      <td>0.046082</td>\n",
       "      <td>0.044576</td>\n",
       "      <td>0.192715</td>\n",
       "      <td>-0.338720</td>\n",
       "      <td>0.043350</td>\n",
       "      <td>0.329227</td>\n",
       "      <td>-0.996730</td>\n",
       "    </tr>\n",
       "    <tr>\n",
       "      <th>111</th>\n",
       "      <td>1</td>\n",
       "      <td>4</td>\n",
       "      <td>1992</td>\n",
       "      <td>0.000000</td>\n",
       "      <td>0.044108</td>\n",
       "      <td>-0.096947</td>\n",
       "      <td>0.119396</td>\n",
       "      <td>-0.002889</td>\n",
       "      <td>-0.015031</td>\n",
       "      <td>0.020023</td>\n",
       "      <td>...</td>\n",
       "      <td>0.049059</td>\n",
       "      <td>0.285138</td>\n",
       "      <td>0.000000</td>\n",
       "      <td>0.068207</td>\n",
       "      <td>-0.081881</td>\n",
       "      <td>0.722393</td>\n",
       "      <td>0.043208</td>\n",
       "      <td>0.109024</td>\n",
       "      <td>-0.216035</td>\n",
       "      <td>-0.966534</td>\n",
       "    </tr>\n",
       "    <tr>\n",
       "      <th>331</th>\n",
       "      <td>3</td>\n",
       "      <td>4</td>\n",
       "      <td>1993</td>\n",
       "      <td>0.000000</td>\n",
       "      <td>-0.243564</td>\n",
       "      <td>0.065933</td>\n",
       "      <td>-0.053317</td>\n",
       "      <td>-0.014775</td>\n",
       "      <td>0.015961</td>\n",
       "      <td>-0.025125</td>\n",
       "      <td>...</td>\n",
       "      <td>-0.082030</td>\n",
       "      <td>-0.603448</td>\n",
       "      <td>0.000000</td>\n",
       "      <td>-0.193768</td>\n",
       "      <td>-0.032941</td>\n",
       "      <td>0.369336</td>\n",
       "      <td>-0.035731</td>\n",
       "      <td>0.078988</td>\n",
       "      <td>-0.269624</td>\n",
       "      <td>-0.613544</td>\n",
       "    </tr>\n",
       "    <tr>\n",
       "      <th>436</th>\n",
       "      <td>4</td>\n",
       "      <td>1</td>\n",
       "      <td>1993</td>\n",
       "      <td>0.000000</td>\n",
       "      <td>-0.008933</td>\n",
       "      <td>-0.095778</td>\n",
       "      <td>-0.018462</td>\n",
       "      <td>-0.107447</td>\n",
       "      <td>-0.142860</td>\n",
       "      <td>0.340283</td>\n",
       "      <td>...</td>\n",
       "      <td>1.094343</td>\n",
       "      <td>0.702388</td>\n",
       "      <td>0.000000</td>\n",
       "      <td>-0.063351</td>\n",
       "      <td>-0.090025</td>\n",
       "      <td>0.260755</td>\n",
       "      <td>0.173042</td>\n",
       "      <td>0.179058</td>\n",
       "      <td>0.875558</td>\n",
       "      <td>-0.979010</td>\n",
       "    </tr>\n",
       "  </tbody>\n",
       "</table>\n",
       "<p>5 rows × 22 columns</p>\n",
       "</div>"
      ],
      "text/plain": [
       "     Sector  Q  Year   Slr_Tot  MnWndSp_Av  MnWndDir_Av  MaxWndGst  AvAirT_Av  \\\n",
       "246       2  3  1999  0.012266   -0.051540     0.110910  -0.082534  -0.021119   \n",
       "456       4  1  1998  0.000000    0.144986     0.221427   0.277522  -0.058352   \n",
       "111       1  4  1992  0.000000    0.044108    -0.096947   0.119396  -0.002889   \n",
       "331       3  4  1993  0.000000   -0.243564     0.065933  -0.053317  -0.014775   \n",
       "436       4  1  1993  0.000000   -0.008933    -0.095778  -0.018462  -0.107447   \n",
       "\n",
       "     AvAirT_Max  AvAirT_Min  ...  AvHum_Min  Precip_Tot  Slr_Tot_3  \\\n",
       "246   -0.019712   -0.014543  ...  -0.246524   -0.343357  -0.044166   \n",
       "456   -0.048597    0.156968  ...   0.635558    1.396811   0.000000   \n",
       "111   -0.015031    0.020023  ...   0.049059    0.285138   0.000000   \n",
       "331    0.015961   -0.025125  ...  -0.082030   -0.603448   0.000000   \n",
       "436   -0.142860    0.340283  ...   1.094343    0.702388   0.000000   \n",
       "\n",
       "     MnWndSp_Av_3  MnWndDir_Av_3  MaxWndGst_3  AvAirT_Min_3  AvHum_Av_3  \\\n",
       "246     -0.045180       0.083232    -0.070074     -0.004214    0.079303   \n",
       "456      0.046082       0.044576     0.192715     -0.338720    0.043350   \n",
       "111      0.068207      -0.081881     0.722393      0.043208    0.109024   \n",
       "331     -0.193768      -0.032941     0.369336     -0.035731    0.078988   \n",
       "436     -0.063351      -0.090025     0.260755      0.173042    0.179058   \n",
       "\n",
       "     Precip_Tot_3  BurnFrCh  \n",
       "246      0.243290  0.487162  \n",
       "456      0.329227 -0.996730  \n",
       "111     -0.216035 -0.966534  \n",
       "331     -0.269624 -0.613544  \n",
       "436      0.875558 -0.979010  \n",
       "\n",
       "[5 rows x 22 columns]"
      ]
     },
     "execution_count": 41,
     "metadata": {},
     "output_type": "execute_result"
    }
   ],
   "source": [
    "X_1500_train.head()"
   ]
  },
  {
   "cell_type": "code",
   "execution_count": 42,
   "metadata": {},
   "outputs": [],
   "source": [
    "## Selecting features using Information Gain\n",
    "from sklearn.feature_selection import mutual_info_classif"
   ]
  },
  {
   "cell_type": "code",
   "execution_count": 44,
   "metadata": {},
   "outputs": [],
   "source": [
    "mutual_info_1500 = mutual_info_classif(X_1500_train,Y_1500_train)\n",
    "mutual_info_1500 = pd.Series(mutual_info_1500)"
   ]
  },
  {
   "cell_type": "code",
   "execution_count": 45,
   "metadata": {},
   "outputs": [],
   "source": [
    "mutual_info_1500.index = X_1500_train.columns"
   ]
  },
  {
   "cell_type": "code",
   "execution_count": 46,
   "metadata": {},
   "outputs": [
    {
     "data": {
      "text/plain": [
       "Q                0.266461\n",
       "BurnFrCh         0.159780\n",
       "AvHum_Max        0.108447\n",
       "AvAirT_Max       0.058543\n",
       "AvAirT_Min       0.054563\n",
       "Precip_Tot       0.051513\n",
       "AvAirT_Av        0.040752\n",
       "MaxWndGst        0.029699\n",
       "MnWndDir_Av      0.015852\n",
       "Sector           0.015409\n",
       "MnWndDir_Av_3    0.009619\n",
       "Precip_Tot_3     0.001996\n",
       "AvHum_Min        0.000000\n",
       "Slr_Tot_3        0.000000\n",
       "MnWndSp_Av_3     0.000000\n",
       "MaxWndGst_3      0.000000\n",
       "AvAirT_Min_3     0.000000\n",
       "MnWndSp_Av       0.000000\n",
       "Slr_Tot          0.000000\n",
       "Year             0.000000\n",
       "AvHum_Av_3       0.000000\n",
       "AvHum_Av         0.000000\n",
       "dtype: float64"
      ]
     },
     "execution_count": 46,
     "metadata": {},
     "output_type": "execute_result"
    }
   ],
   "source": [
    "mutual_info_1500.sort_values(ascending=False)"
   ]
  },
  {
   "cell_type": "code",
   "execution_count": 47,
   "metadata": {},
   "outputs": [
    {
     "data": {
      "text/plain": [
       "SelectKBest(k=12,\n",
       "            score_func=<function mutual_info_classif at 0x000001B8BA99F840>)"
      ]
     },
     "execution_count": 47,
     "metadata": {},
     "output_type": "execute_result"
    }
   ],
   "source": [
    "## Selecting colums with higher dependence on target\n",
    "from sklearn.feature_selection import SelectKBest\n",
    "selected_cols_1500 = SelectKBest(mutual_info_classif,k=12)\n",
    "selected_cols_1500.fit(X_1500_train,Y_1500_train)"
   ]
  },
  {
   "cell_type": "code",
   "execution_count": 49,
   "metadata": {},
   "outputs": [],
   "source": [
    "keep_cols_1500 = X_1500_train.columns[selected_cols_1500.get_support()]"
   ]
  },
  {
   "cell_type": "code",
   "execution_count": 50,
   "metadata": {},
   "outputs": [
    {
     "data": {
      "text/html": [
       "<div>\n",
       "<style scoped>\n",
       "    .dataframe tbody tr th:only-of-type {\n",
       "        vertical-align: middle;\n",
       "    }\n",
       "\n",
       "    .dataframe tbody tr th {\n",
       "        vertical-align: top;\n",
       "    }\n",
       "\n",
       "    .dataframe thead th {\n",
       "        text-align: right;\n",
       "    }\n",
       "</style>\n",
       "<table border=\"1\" class=\"dataframe\">\n",
       "  <thead>\n",
       "    <tr style=\"text-align: right;\">\n",
       "      <th></th>\n",
       "      <th>Sector</th>\n",
       "      <th>Q</th>\n",
       "      <th>MnWndDir_Av</th>\n",
       "      <th>MaxWndGst</th>\n",
       "      <th>AvAirT_Av</th>\n",
       "      <th>AvAirT_Max</th>\n",
       "      <th>AvAirT_Min</th>\n",
       "      <th>AvHum_Max</th>\n",
       "      <th>Precip_Tot</th>\n",
       "      <th>MnWndDir_Av_3</th>\n",
       "      <th>Precip_Tot_3</th>\n",
       "      <th>BurnFrCh</th>\n",
       "    </tr>\n",
       "  </thead>\n",
       "  <tbody>\n",
       "    <tr>\n",
       "      <th>246</th>\n",
       "      <td>2</td>\n",
       "      <td>3</td>\n",
       "      <td>0.110910</td>\n",
       "      <td>-0.082534</td>\n",
       "      <td>-0.021119</td>\n",
       "      <td>-0.019712</td>\n",
       "      <td>-0.014543</td>\n",
       "      <td>0.039488</td>\n",
       "      <td>-0.343357</td>\n",
       "      <td>0.083232</td>\n",
       "      <td>0.243290</td>\n",
       "      <td>0.487162</td>\n",
       "    </tr>\n",
       "    <tr>\n",
       "      <th>456</th>\n",
       "      <td>4</td>\n",
       "      <td>1</td>\n",
       "      <td>0.221427</td>\n",
       "      <td>0.277522</td>\n",
       "      <td>-0.058352</td>\n",
       "      <td>-0.048597</td>\n",
       "      <td>0.156968</td>\n",
       "      <td>0.004735</td>\n",
       "      <td>1.396811</td>\n",
       "      <td>0.044576</td>\n",
       "      <td>0.329227</td>\n",
       "      <td>-0.996730</td>\n",
       "    </tr>\n",
       "    <tr>\n",
       "      <th>111</th>\n",
       "      <td>1</td>\n",
       "      <td>4</td>\n",
       "      <td>-0.096947</td>\n",
       "      <td>0.119396</td>\n",
       "      <td>-0.002889</td>\n",
       "      <td>-0.015031</td>\n",
       "      <td>0.020023</td>\n",
       "      <td>0.010821</td>\n",
       "      <td>0.285138</td>\n",
       "      <td>-0.081881</td>\n",
       "      <td>-0.216035</td>\n",
       "      <td>-0.966534</td>\n",
       "    </tr>\n",
       "    <tr>\n",
       "      <th>331</th>\n",
       "      <td>3</td>\n",
       "      <td>4</td>\n",
       "      <td>0.065933</td>\n",
       "      <td>-0.053317</td>\n",
       "      <td>-0.014775</td>\n",
       "      <td>0.015961</td>\n",
       "      <td>-0.025125</td>\n",
       "      <td>-0.008812</td>\n",
       "      <td>-0.603448</td>\n",
       "      <td>-0.032941</td>\n",
       "      <td>-0.269624</td>\n",
       "      <td>-0.613544</td>\n",
       "    </tr>\n",
       "    <tr>\n",
       "      <th>436</th>\n",
       "      <td>4</td>\n",
       "      <td>1</td>\n",
       "      <td>-0.095778</td>\n",
       "      <td>-0.018462</td>\n",
       "      <td>-0.107447</td>\n",
       "      <td>-0.142860</td>\n",
       "      <td>0.340283</td>\n",
       "      <td>0.005402</td>\n",
       "      <td>0.702388</td>\n",
       "      <td>-0.090025</td>\n",
       "      <td>0.875558</td>\n",
       "      <td>-0.979010</td>\n",
       "    </tr>\n",
       "  </tbody>\n",
       "</table>\n",
       "</div>"
      ],
      "text/plain": [
       "     Sector  Q  MnWndDir_Av  MaxWndGst  AvAirT_Av  AvAirT_Max  AvAirT_Min  \\\n",
       "246       2  3     0.110910  -0.082534  -0.021119   -0.019712   -0.014543   \n",
       "456       4  1     0.221427   0.277522  -0.058352   -0.048597    0.156968   \n",
       "111       1  4    -0.096947   0.119396  -0.002889   -0.015031    0.020023   \n",
       "331       3  4     0.065933  -0.053317  -0.014775    0.015961   -0.025125   \n",
       "436       4  1    -0.095778  -0.018462  -0.107447   -0.142860    0.340283   \n",
       "\n",
       "     AvHum_Max  Precip_Tot  MnWndDir_Av_3  Precip_Tot_3  BurnFrCh  \n",
       "246   0.039488   -0.343357       0.083232      0.243290  0.487162  \n",
       "456   0.004735    1.396811       0.044576      0.329227 -0.996730  \n",
       "111   0.010821    0.285138      -0.081881     -0.216035 -0.966534  \n",
       "331  -0.008812   -0.603448      -0.032941     -0.269624 -0.613544  \n",
       "436   0.005402    0.702388      -0.090025      0.875558 -0.979010  "
      ]
     },
     "execution_count": 50,
     "metadata": {},
     "output_type": "execute_result"
    }
   ],
   "source": [
    "## Picking only the above 12 columns for further analysis\n",
    "X_1500_train = X_1500_train[keep_cols_1500]\n",
    "X_1500_train.head()"
   ]
  },
  {
   "cell_type": "code",
   "execution_count": 51,
   "metadata": {},
   "outputs": [
    {
     "data": {
      "text/html": [
       "<div>\n",
       "<style scoped>\n",
       "    .dataframe tbody tr th:only-of-type {\n",
       "        vertical-align: middle;\n",
       "    }\n",
       "\n",
       "    .dataframe tbody tr th {\n",
       "        vertical-align: top;\n",
       "    }\n",
       "\n",
       "    .dataframe thead th {\n",
       "        text-align: right;\n",
       "    }\n",
       "</style>\n",
       "<table border=\"1\" class=\"dataframe\">\n",
       "  <thead>\n",
       "    <tr style=\"text-align: right;\">\n",
       "      <th></th>\n",
       "      <th>Sector</th>\n",
       "      <th>Q</th>\n",
       "      <th>MnWndDir_Av</th>\n",
       "      <th>MaxWndGst</th>\n",
       "      <th>AvAirT_Av</th>\n",
       "      <th>AvAirT_Max</th>\n",
       "      <th>AvAirT_Min</th>\n",
       "      <th>AvHum_Max</th>\n",
       "      <th>Precip_Tot</th>\n",
       "      <th>MnWndDir_Av_3</th>\n",
       "      <th>Precip_Tot_3</th>\n",
       "      <th>BurnFrCh</th>\n",
       "      <th>Fire</th>\n",
       "    </tr>\n",
       "  </thead>\n",
       "  <tbody>\n",
       "    <tr>\n",
       "      <th>246</th>\n",
       "      <td>2</td>\n",
       "      <td>3</td>\n",
       "      <td>0.110910</td>\n",
       "      <td>-0.082534</td>\n",
       "      <td>-0.021119</td>\n",
       "      <td>-0.019712</td>\n",
       "      <td>-0.014543</td>\n",
       "      <td>0.039488</td>\n",
       "      <td>-0.343357</td>\n",
       "      <td>0.083232</td>\n",
       "      <td>0.243290</td>\n",
       "      <td>0.487162</td>\n",
       "      <td>1</td>\n",
       "    </tr>\n",
       "    <tr>\n",
       "      <th>456</th>\n",
       "      <td>4</td>\n",
       "      <td>1</td>\n",
       "      <td>0.221427</td>\n",
       "      <td>0.277522</td>\n",
       "      <td>-0.058352</td>\n",
       "      <td>-0.048597</td>\n",
       "      <td>0.156968</td>\n",
       "      <td>0.004735</td>\n",
       "      <td>1.396811</td>\n",
       "      <td>0.044576</td>\n",
       "      <td>0.329227</td>\n",
       "      <td>-0.996730</td>\n",
       "      <td>0</td>\n",
       "    </tr>\n",
       "    <tr>\n",
       "      <th>111</th>\n",
       "      <td>1</td>\n",
       "      <td>4</td>\n",
       "      <td>-0.096947</td>\n",
       "      <td>0.119396</td>\n",
       "      <td>-0.002889</td>\n",
       "      <td>-0.015031</td>\n",
       "      <td>0.020023</td>\n",
       "      <td>0.010821</td>\n",
       "      <td>0.285138</td>\n",
       "      <td>-0.081881</td>\n",
       "      <td>-0.216035</td>\n",
       "      <td>-0.966534</td>\n",
       "      <td>0</td>\n",
       "    </tr>\n",
       "    <tr>\n",
       "      <th>331</th>\n",
       "      <td>3</td>\n",
       "      <td>4</td>\n",
       "      <td>0.065933</td>\n",
       "      <td>-0.053317</td>\n",
       "      <td>-0.014775</td>\n",
       "      <td>0.015961</td>\n",
       "      <td>-0.025125</td>\n",
       "      <td>-0.008812</td>\n",
       "      <td>-0.603448</td>\n",
       "      <td>-0.032941</td>\n",
       "      <td>-0.269624</td>\n",
       "      <td>-0.613544</td>\n",
       "      <td>0</td>\n",
       "    </tr>\n",
       "    <tr>\n",
       "      <th>436</th>\n",
       "      <td>4</td>\n",
       "      <td>1</td>\n",
       "      <td>-0.095778</td>\n",
       "      <td>-0.018462</td>\n",
       "      <td>-0.107447</td>\n",
       "      <td>-0.142860</td>\n",
       "      <td>0.340283</td>\n",
       "      <td>0.005402</td>\n",
       "      <td>0.702388</td>\n",
       "      <td>-0.090025</td>\n",
       "      <td>0.875558</td>\n",
       "      <td>-0.979010</td>\n",
       "      <td>0</td>\n",
       "    </tr>\n",
       "  </tbody>\n",
       "</table>\n",
       "</div>"
      ],
      "text/plain": [
       "     Sector  Q  MnWndDir_Av  MaxWndGst  AvAirT_Av  AvAirT_Max  AvAirT_Min  \\\n",
       "246       2  3     0.110910  -0.082534  -0.021119   -0.019712   -0.014543   \n",
       "456       4  1     0.221427   0.277522  -0.058352   -0.048597    0.156968   \n",
       "111       1  4    -0.096947   0.119396  -0.002889   -0.015031    0.020023   \n",
       "331       3  4     0.065933  -0.053317  -0.014775    0.015961   -0.025125   \n",
       "436       4  1    -0.095778  -0.018462  -0.107447   -0.142860    0.340283   \n",
       "\n",
       "     AvHum_Max  Precip_Tot  MnWndDir_Av_3  Precip_Tot_3  BurnFrCh  Fire  \n",
       "246   0.039488   -0.343357       0.083232      0.243290  0.487162     1  \n",
       "456   0.004735    1.396811       0.044576      0.329227 -0.996730     0  \n",
       "111   0.010821    0.285138      -0.081881     -0.216035 -0.966534     0  \n",
       "331  -0.008812   -0.603448      -0.032941     -0.269624 -0.613544     0  \n",
       "436   0.005402    0.702388      -0.090025      0.875558 -0.979010     0  "
      ]
     },
     "execution_count": 51,
     "metadata": {},
     "output_type": "execute_result"
    }
   ],
   "source": [
    "fires_1500_train = pd.concat([X_1500_train,Y_1500_train],axis =1)\n",
    "fires_1500_train.head()"
   ]
  },
  {
   "cell_type": "code",
   "execution_count": 52,
   "metadata": {},
   "outputs": [],
   "source": [
    "fires_1500_train.to_csv(\"fires_1500_train.csv\",index=False)"
   ]
  },
  {
   "cell_type": "code",
   "execution_count": null,
   "metadata": {},
   "outputs": [],
   "source": []
  }
 ],
 "metadata": {
  "kernelspec": {
   "display_name": "Python 3",
   "language": "python",
   "name": "python3"
  },
  "language_info": {
   "codemirror_mode": {
    "name": "ipython",
    "version": 3
   },
   "file_extension": ".py",
   "mimetype": "text/x-python",
   "name": "python",
   "nbconvert_exporter": "python",
   "pygments_lexer": "ipython3",
   "version": "3.6.10"
  }
 },
 "nbformat": 4,
 "nbformat_minor": 4
}
